{
  "cells": [
    {
      "cell_type": "markdown",
      "source": [
        "# Predicting Taxonomy"
      ],
      "metadata": {
        "id": "LViXin_xDRJW"
      }
    },
    {
      "cell_type": "markdown",
      "source": [
        "1 The taxonomy columns in the dataset contain information about the specialization or categorization of healthcare professionals (HCPs). These columns provide a hierarchical classification system that assigns specific labels or categories to HCPs based on their area of expertise or professional domain. The taxonomy labels can range from general specializations such as \"General Medicine\" or \"Pediatrics\" to more specific sub-categories like \"Cardiology\" or \"Orthopedic Surgery.\" Accurately predicting the taxonomy for HCPs is crucial for understanding their professional background and tailoring healthcare services or targeted advertisements to their specific needs. However, due to the wide variety of possible taxonomy labels, predicting them accurately poses a complex and challenging task. these are encoded to codes"
      ],
      "metadata": {
        "id": "Q7r2qKRrDVnv"
      }
    },
    {
      "cell_type": "markdown",
      "source": [
        "Installing some important libraries"
      ],
      "metadata": {
        "id": "SjUjbTTjDhxI"
      }
    },
    {
      "cell_type": "code",
      "execution_count": 124,
      "metadata": {
        "id": "d5bq6MJ_MCYN"
      },
      "outputs": [],
      "source": [
        "!pip install tensorflow tensorflow_decision_forests --quiet\n",
        "!pip install catboost --quiet\n",
        "!pip install xgboost --quiet\n",
        "!pip install category_encoders --quiet"
      ]
    },
    {
      "cell_type": "code",
      "execution_count": 259,
      "metadata": {
        "id": "feyxbINzmV1w"
      },
      "outputs": [],
      "source": [
        "from sklearn.preprocessing import MultiLabelBinarizer\n",
        "from sklearn.model_selection import train_test_split\n",
        "from sklearn.preprocessing import OneHotEncoder\n",
        "from sklearn.tree import DecisionTreeClassifier\n",
        "from scipy.stats import chi2_contingency\n",
        "from IPython.display import clear_output\n",
        "from matplotlib import pyplot as plt\n",
        "from matplotlib import pyplot as plt\n",
        "from sklearn.metrics import f1_score\n",
        "from urllib.parse import urlparse\n",
        "import category_encoders as ce\n",
        "from google.colab import drive\n",
        "from zipfile import ZipFile\n",
        "import xgboost as xgb\n",
        "import pandas as pd\n",
        "import numpy as np\n",
        "import time\n",
        "import math\n",
        "import re"
      ]
    },
    {
      "cell_type": "markdown",
      "source": [
        "# Small Tool used to visualizing progress nothing else"
      ],
      "metadata": {
        "id": "Awi3WdCVDmSH"
      }
    },
    {
      "cell_type": "code",
      "execution_count": 127,
      "metadata": {
        "id": "Ok07NGGYo2kg"
      },
      "outputs": [],
      "source": [
        "class progressbar:\n",
        "    def __init__(self,timegap,length=40,char1='-',char2='>'):\n",
        "        self.start_time = time.time()\n",
        "        self.timegap=timegap\n",
        "        self.time_ellapsed=0\n",
        "        self.length = length\n",
        "        self.char1 = char1\n",
        "        self.char2 = char2\n",
        "        self.data=[]\n",
        "        self.extraword=''\n",
        "        self.past = 0\n",
        "        self.tim1 = 0\n",
        "        self.past_error = 0\n",
        "    def print(self,current,max,string='',clear=True,graph=False,error=0,graph_length=10,smoothing=0.2):\n",
        "        assert smoothing<1\n",
        "        progress=round(self.length*current/max)\n",
        "        if progress == 0:\n",
        "            self.past_error = error\n",
        "        if time.time()-self.start_time>self.timegap:\n",
        "            self.start_time = time.time()\n",
        "            self.time_ellapsed+=self.timegap\n",
        "            self.extraword+='\\n Time taken ='+str(self.time_ellapsed)+'sec'\n",
        "            if clear:\n",
        "                clear_output(wait=True)\n",
        "                if progress!=self.past:\n",
        "                    self.tim1 = round((self.length-progress)/(progress-self.past+0.1)*self.timegap,2)\n",
        "                print('['+self.char1*int(progress)+self.char2+' '*(self.length-progress)+']',\n",
        "                        '\\n',\n",
        "                        string,\n",
        "                        f\"\\ntime {self.tim1}s\",\n",
        "                        f\"\\ntime_spent {self.time_ellapsed}s\",\n",
        "                        flush=True)\n",
        "                self.past = progress\n",
        "            if graph:\n",
        "                if len(self.data)>graph_length:\n",
        "                    self.data.pop(0)\n",
        "                    # print(self.data,graph_length,len(self.data))\n",
        "                error = smoothing*error+(1-smoothing)*self.past_error\n",
        "                self.past_error = error\n",
        "                self.data.append([self.time_ellapsed,error])\n",
        "                plt.plot([x[0] for x in self.data],[x[1] for x in self.data])\n",
        "                plt.show()"
      ]
    },
    {
      "cell_type": "code",
      "execution_count": 128,
      "metadata": {
        "colab": {
          "base_uri": "https://localhost:8080/"
        },
        "id": "eYgYLLBmRAnB",
        "outputId": "de2ceee7-80ac-4a17-b264-d6331e240251"
      },
      "outputs": [
        {
          "output_type": "stream",
          "name": "stdout",
          "text": [
            "Drive already mounted at /content/drive; to attempt to forcibly remount, call drive.mount(\"/content/drive\", force_remount=True).\n"
          ]
        }
      ],
      "source": [
        "drive.mount('/content/drive')"
      ]
    },
    {
      "cell_type": "code",
      "execution_count": 129,
      "metadata": {
        "id": "LPSZfZdy8_kZ"
      },
      "outputs": [],
      "source": [
        "# with ZipFile('/content/drive/MyDrive/Hackathon Testbiz/Correct-Complete-DataSet.zip','r') as f:\n",
        "#     f.extractall()"
      ]
    },
    {
      "cell_type": "code",
      "execution_count": 130,
      "metadata": {
        "id": "7KI6GfK79hgX"
      },
      "outputs": [],
      "source": [
        "df = pd.read_csv(\"/content/drive/MyDrive/Hackathon Testbiz/Doceree-HCP_Train.csv\",encoding='ISO-8859-1')"
      ]
    },
    {
      "cell_type": "code",
      "execution_count": 131,
      "metadata": {
        "colab": {
          "base_uri": "https://localhost:8080/"
        },
        "id": "WplMn62g-IMs",
        "outputId": "73a3a0fd-0cf1-49de-af47-79c4f220e172"
      },
      "outputs": [
        {
          "output_type": "execute_result",
          "data": {
            "text/plain": [
              "ID                     0\n",
              "DEVICETYPE             0\n",
              "PLATFORM_ID            0\n",
              "BIDREQUESTIP           0\n",
              "USERPLATFORMUID        4\n",
              "USERCITY            6359\n",
              "USERZIPCODE         4592\n",
              "USERAGENT              2\n",
              "PLATFORMTYPE           0\n",
              "CHANNELTYPE            0\n",
              "URL                    0\n",
              "KEYWORDS               0\n",
              "TAXONOMY           81624\n",
              "IS_HCP                 1\n",
              "dtype: int64"
            ]
          },
          "metadata": {},
          "execution_count": 131
        }
      ],
      "source": [
        "df.isna().sum()"
      ]
    },
    {
      "cell_type": "code",
      "execution_count": 132,
      "metadata": {
        "id": "egREcpFb9ugS"
      },
      "outputs": [],
      "source": [
        "df = df.drop(['ID','CHANNELTYPE'],axis = 1)"
      ]
    },
    {
      "cell_type": "code",
      "execution_count": 133,
      "metadata": {
        "colab": {
          "base_uri": "https://localhost:8080/",
          "height": 315
        },
        "id": "G--4BgLoSC-n",
        "outputId": "0ff7b8e8-b6e4-49fa-d865-c1c5246302ae"
      },
      "outputs": [
        {
          "output_type": "execute_result",
          "data": {
            "text/plain": [
              "  DEVICETYPE  PLATFORM_ID   BIDREQUESTIP  \\\n",
              "0    Desktop            2   170.173.0.22   \n",
              "1    Desktop            2  65.216.253.25   \n",
              "\n",
              "                        USERPLATFORMUID   USERCITY  USERZIPCODE  \\\n",
              "0  6974dcaa-f932-480e-9fb5-c52e20e1393a   Portland      97206.0   \n",
              "1  c12f3f8f-8fcf-484a-90e1-1ac04db8cdcf  Arlington      22202.0   \n",
              "\n",
              "                                           USERAGENT            PLATFORMTYPE  \\\n",
              "0  Mozilla/5.0 (Windows NT 10.0; Win64; x64) Appl...  Online Medical Journal   \n",
              "1  Mozilla/5.0 (Macintosh; Intel Mac OS X 10_15_7...  Online Medical Journal   \n",
              "\n",
              "                                                 URL  \\\n",
              "0  https://www.cancertherapyadvisor.com/home/canc...   \n",
              "1  https://www.cancertherapyadvisor.com/home/deci...   \n",
              "\n",
              "                                            KEYWORDS TAXONOMY  IS_HCP  \n",
              "0  General|Endocrine|False|Medicine|Surgery|Urolo...      NaN     0.0  \n",
              "1  Bone Marrow|Radiography|Chronic|Oncology|Psych...      NaN     0.0  "
            ],
            "text/html": [
              "\n",
              "  <div id=\"df-dbdf4590-60e5-4663-a4d1-9e6b555f4a87\">\n",
              "    <div class=\"colab-df-container\">\n",
              "      <div>\n",
              "<style scoped>\n",
              "    .dataframe tbody tr th:only-of-type {\n",
              "        vertical-align: middle;\n",
              "    }\n",
              "\n",
              "    .dataframe tbody tr th {\n",
              "        vertical-align: top;\n",
              "    }\n",
              "\n",
              "    .dataframe thead th {\n",
              "        text-align: right;\n",
              "    }\n",
              "</style>\n",
              "<table border=\"1\" class=\"dataframe\">\n",
              "  <thead>\n",
              "    <tr style=\"text-align: right;\">\n",
              "      <th></th>\n",
              "      <th>DEVICETYPE</th>\n",
              "      <th>PLATFORM_ID</th>\n",
              "      <th>BIDREQUESTIP</th>\n",
              "      <th>USERPLATFORMUID</th>\n",
              "      <th>USERCITY</th>\n",
              "      <th>USERZIPCODE</th>\n",
              "      <th>USERAGENT</th>\n",
              "      <th>PLATFORMTYPE</th>\n",
              "      <th>URL</th>\n",
              "      <th>KEYWORDS</th>\n",
              "      <th>TAXONOMY</th>\n",
              "      <th>IS_HCP</th>\n",
              "    </tr>\n",
              "  </thead>\n",
              "  <tbody>\n",
              "    <tr>\n",
              "      <th>0</th>\n",
              "      <td>Desktop</td>\n",
              "      <td>2</td>\n",
              "      <td>170.173.0.22</td>\n",
              "      <td>6974dcaa-f932-480e-9fb5-c52e20e1393a</td>\n",
              "      <td>Portland</td>\n",
              "      <td>97206.0</td>\n",
              "      <td>Mozilla/5.0 (Windows NT 10.0; Win64; x64) Appl...</td>\n",
              "      <td>Online Medical Journal</td>\n",
              "      <td>https://www.cancertherapyadvisor.com/home/canc...</td>\n",
              "      <td>General|Endocrine|False|Medicine|Surgery|Urolo...</td>\n",
              "      <td>NaN</td>\n",
              "      <td>0.0</td>\n",
              "    </tr>\n",
              "    <tr>\n",
              "      <th>1</th>\n",
              "      <td>Desktop</td>\n",
              "      <td>2</td>\n",
              "      <td>65.216.253.25</td>\n",
              "      <td>c12f3f8f-8fcf-484a-90e1-1ac04db8cdcf</td>\n",
              "      <td>Arlington</td>\n",
              "      <td>22202.0</td>\n",
              "      <td>Mozilla/5.0 (Macintosh; Intel Mac OS X 10_15_7...</td>\n",
              "      <td>Online Medical Journal</td>\n",
              "      <td>https://www.cancertherapyadvisor.com/home/deci...</td>\n",
              "      <td>Bone Marrow|Radiography|Chronic|Oncology|Psych...</td>\n",
              "      <td>NaN</td>\n",
              "      <td>0.0</td>\n",
              "    </tr>\n",
              "  </tbody>\n",
              "</table>\n",
              "</div>\n",
              "      <button class=\"colab-df-convert\" onclick=\"convertToInteractive('df-dbdf4590-60e5-4663-a4d1-9e6b555f4a87')\"\n",
              "              title=\"Convert this dataframe to an interactive table.\"\n",
              "              style=\"display:none;\">\n",
              "        \n",
              "  <svg xmlns=\"http://www.w3.org/2000/svg\" height=\"24px\"viewBox=\"0 0 24 24\"\n",
              "       width=\"24px\">\n",
              "    <path d=\"M0 0h24v24H0V0z\" fill=\"none\"/>\n",
              "    <path d=\"M18.56 5.44l.94 2.06.94-2.06 2.06-.94-2.06-.94-.94-2.06-.94 2.06-2.06.94zm-11 1L8.5 8.5l.94-2.06 2.06-.94-2.06-.94L8.5 2.5l-.94 2.06-2.06.94zm10 10l.94 2.06.94-2.06 2.06-.94-2.06-.94-.94-2.06-.94 2.06-2.06.94z\"/><path d=\"M17.41 7.96l-1.37-1.37c-.4-.4-.92-.59-1.43-.59-.52 0-1.04.2-1.43.59L10.3 9.45l-7.72 7.72c-.78.78-.78 2.05 0 2.83L4 21.41c.39.39.9.59 1.41.59.51 0 1.02-.2 1.41-.59l7.78-7.78 2.81-2.81c.8-.78.8-2.07 0-2.86zM5.41 20L4 18.59l7.72-7.72 1.47 1.35L5.41 20z\"/>\n",
              "  </svg>\n",
              "      </button>\n",
              "      \n",
              "  <style>\n",
              "    .colab-df-container {\n",
              "      display:flex;\n",
              "      flex-wrap:wrap;\n",
              "      gap: 12px;\n",
              "    }\n",
              "\n",
              "    .colab-df-convert {\n",
              "      background-color: #E8F0FE;\n",
              "      border: none;\n",
              "      border-radius: 50%;\n",
              "      cursor: pointer;\n",
              "      display: none;\n",
              "      fill: #1967D2;\n",
              "      height: 32px;\n",
              "      padding: 0 0 0 0;\n",
              "      width: 32px;\n",
              "    }\n",
              "\n",
              "    .colab-df-convert:hover {\n",
              "      background-color: #E2EBFA;\n",
              "      box-shadow: 0px 1px 2px rgba(60, 64, 67, 0.3), 0px 1px 3px 1px rgba(60, 64, 67, 0.15);\n",
              "      fill: #174EA6;\n",
              "    }\n",
              "\n",
              "    [theme=dark] .colab-df-convert {\n",
              "      background-color: #3B4455;\n",
              "      fill: #D2E3FC;\n",
              "    }\n",
              "\n",
              "    [theme=dark] .colab-df-convert:hover {\n",
              "      background-color: #434B5C;\n",
              "      box-shadow: 0px 1px 3px 1px rgba(0, 0, 0, 0.15);\n",
              "      filter: drop-shadow(0px 1px 2px rgba(0, 0, 0, 0.3));\n",
              "      fill: #FFFFFF;\n",
              "    }\n",
              "  </style>\n",
              "\n",
              "      <script>\n",
              "        const buttonEl =\n",
              "          document.querySelector('#df-dbdf4590-60e5-4663-a4d1-9e6b555f4a87 button.colab-df-convert');\n",
              "        buttonEl.style.display =\n",
              "          google.colab.kernel.accessAllowed ? 'block' : 'none';\n",
              "\n",
              "        async function convertToInteractive(key) {\n",
              "          const element = document.querySelector('#df-dbdf4590-60e5-4663-a4d1-9e6b555f4a87');\n",
              "          const dataTable =\n",
              "            await google.colab.kernel.invokeFunction('convertToInteractive',\n",
              "                                                     [key], {});\n",
              "          if (!dataTable) return;\n",
              "\n",
              "          const docLinkHtml = 'Like what you see? Visit the ' +\n",
              "            '<a target=\"_blank\" href=https://colab.research.google.com/notebooks/data_table.ipynb>data table notebook</a>'\n",
              "            + ' to learn more about interactive tables.';\n",
              "          element.innerHTML = '';\n",
              "          dataTable['output_type'] = 'display_data';\n",
              "          await google.colab.output.renderOutput(dataTable, element);\n",
              "          const docLink = document.createElement('div');\n",
              "          docLink.innerHTML = docLinkHtml;\n",
              "          element.appendChild(docLink);\n",
              "        }\n",
              "      </script>\n",
              "    </div>\n",
              "  </div>\n",
              "  "
            ]
          },
          "metadata": {},
          "execution_count": 133
        }
      ],
      "source": [
        "df.head(2)"
      ]
    },
    {
      "cell_type": "code",
      "execution_count": 134,
      "metadata": {
        "id": "vb0jbJrp3bI5"
      },
      "outputs": [],
      "source": [
        "df = df[df.IS_HCP.isna()==0].reset_index().drop('index',axis=1)"
      ]
    },
    {
      "cell_type": "code",
      "execution_count": 135,
      "metadata": {
        "id": "c5pUVAdXC8b4"
      },
      "outputs": [],
      "source": [
        "df = df[df.TAXONOMY.isna()==0]"
      ]
    },
    {
      "cell_type": "code",
      "source": [
        "tax_counts = df.TAXONOMY.value_counts()\n",
        "Top_10_tax = tax_counts[:10].keys()"
      ],
      "metadata": {
        "id": "JfjS0iIAUrRQ"
      },
      "execution_count": 142,
      "outputs": []
    },
    {
      "cell_type": "code",
      "source": [
        "tax_class = Top_10_tax[0]"
      ],
      "metadata": {
        "id": "aTe2nwpYVgW8"
      },
      "execution_count": 147,
      "outputs": []
    },
    {
      "cell_type": "markdown",
      "source": [
        "# Used count encoder for encoding categorical columns"
      ],
      "metadata": {
        "id": "mz2bt94wDxpn"
      }
    },
    {
      "cell_type": "code",
      "source": [
        "class classify:\n",
        "    def __init__(self,label):\n",
        "        self.mlb = MultiLabelBinarizer()  # For keywords column\n",
        "        self.clf = DecisionTreeClassifier(random_state=0) # used basic decision tree\n",
        "        self.encoders = [ ce.CountEncoder(cols=['BIDREQUESTIP']),\n",
        "                          ce.CountEncoder(cols=['USERPLATFORMUID']),\n",
        "                          ce.CountEncoder(cols=['USERAGENT']),\n",
        "                          ce.CountEncoder(cols=['USERZIPCODE']),\n",
        "                          ce.CountEncoder(cols=['URL']) ,\n",
        "                          ce.CountEncoder(cols=['USERCITY'])]\n",
        "        self.label = label\n",
        "    def fit(self,df,count=1,total=10):\n",
        "        train_keys = self.mlb.fit_transform(df.KEYWORDS.apply(lambda x:set(x.lower().split('|')))) # convert to one hot encoding\n",
        "        train_keys = pd.DataFrame(train_keys,columns = self.mlb.classes_)\n",
        "        train_y = df.TAXONOMY.apply(lambda x:x==self.label)\n",
        "        d = pd.Series(dtype=int)\n",
        "        pb = progressbar(1)\n",
        "        # used Cramers V correlation to findout most correlated features with target\n",
        "        for ind,i in enumerate(train_keys.columns):\n",
        "            pb.print(ind,len(train_keys.columns),f'{self.label} Calculating correlations {round(count/total,2)}')\n",
        "            d[i] = self.cramers_v(train_keys[i],train_y)\n",
        "        d = d[d.isna()==0]\n",
        "        d = d[d>0]\n",
        "        self.imp_cols = list(d.keys())\n",
        "\n",
        "        self.clf.fit(train_keys,train_y)\n",
        "\n",
        "        for encoder in self.encoders:\n",
        "            df = encoder.fit_transform(df)\n",
        "        train_data = pd.concat([df[['BIDREQUESTIP',\n",
        "                                    'USERCITY',\n",
        "                                    'USERPLATFORMUID',\n",
        "                                    'USERAGENT',\n",
        "                                    'USERZIPCODE',\n",
        "                                    'URL']].reset_index().drop('index',axis=1),\n",
        "                                train_keys[self.imp_cols]],axis=1)\n",
        "        self.clf.fit(train_data,train_y)\n",
        "\n",
        "\n",
        "    def predict(self,df,count=0):\n",
        "        test_keys = self.mlb.transform(df.KEYWORDS.apply(lambda x:set(x.lower().split('|'))))\n",
        "        test_keys = pd.DataFrame(test_keys,columns = self.mlb.classes_)\n",
        "        for encoder in self.encoders:\n",
        "            df = encoder.transform(df)\n",
        "        test_data = pd.concat([df[['BIDREQUESTIP',\n",
        "                                    'USERCITY',\n",
        "                                    'USERPLATFORMUID',\n",
        "                                    'USERAGENT',\n",
        "                                    'USERZIPCODE',\n",
        "                                    'URL']].reset_index().drop('index',axis=1),\n",
        "                                test_keys[self.imp_cols]],axis=1)\n",
        "        return self.clf.predict(test_data)\n",
        "\n",
        "    def cramers_v(self,x, y):\n",
        "        confusion_matrix = pd.crosstab(x, y)\n",
        "        chi2, _, _, _ = chi2_contingency(confusion_matrix)\n",
        "        n = confusion_matrix.sum().sum()\n",
        "        phi2 = chi2 / n\n",
        "        r, k = confusion_matrix.shape\n",
        "        phi2corr = max(0, phi2 - ((k - 1) * (r - 1)) / (n - 1))\n",
        "        if r-1==0 or n-1==0:\n",
        "            return 0\n",
        "        rcorr = r - ((r - 1) ** 2) / (n - 1)\n",
        "        kcorr = k - ((k - 1) ** 2) / (n - 1)\n",
        "        corr_val = (phi2corr / min((kcorr - 1), (rcorr - 1)))\n",
        "        return np.sqrt(corr_val)"
      ],
      "metadata": {
        "id": "3b5SVxP8bUbT"
      },
      "execution_count": 463,
      "outputs": []
    },
    {
      "cell_type": "code",
      "source": [
        "class Taxonomy:\n",
        "    def __init__(self,df,no_cols = 10):\n",
        "        self.Top_cols = df.TAXONOMY.value_counts().keys()[:no_cols]\n",
        "        self.df = df\n",
        "        self.classifiers = [classify(label) for label in self.Top_cols]\n",
        "        self.no_cols = no_cols\n",
        "    def fit(self):\n",
        "        for ind,classifier in enumerate(self.classifiers):\n",
        "            classifier.fit(self.df,count=ind,total=self.no_cols)\n",
        "    def predict(self,df):\n",
        "        tax = pd.DataFrame(0,index = df.index,columns = ['Taxonomy'])\n",
        "        index = tax.index\n",
        "        for classifier in self.classifiers:\n",
        "            preds = pd.Series(classifier.predict(df.loc[index]),index = index)\n",
        "            tax.loc[preds[preds==1].index] = classifier.label\n",
        "            index = preds[preds==0].index\n",
        "            if len(preds[preds==0])==0:\n",
        "                return tax\n",
        "        return tax"
      ],
      "metadata": {
        "id": "p7kgJAftkwZZ"
      },
      "execution_count": 492,
      "outputs": []
    },
    {
      "cell_type": "code",
      "source": [
        "final_test_solns = pd.read_csv('/content/submittedclasses.csv')"
      ],
      "metadata": {
        "id": "bdSKs21cxnz2"
      },
      "execution_count": 518,
      "outputs": []
    },
    {
      "cell_type": "code",
      "source": [
        "final_test_data = pd.read_csv('/content/drive/MyDrive/Hackathon Testbiz/Doceree-HCP_Test.csv')"
      ],
      "metadata": {
        "id": "yW4y2dVYywqV"
      },
      "execution_count": 483,
      "outputs": []
    },
    {
      "cell_type": "code",
      "source": [
        "test_df = final_test_data[final_test_solns.IS_HCP==1]"
      ],
      "metadata": {
        "id": "9TKcyjo_3V-R"
      },
      "execution_count": 486,
      "outputs": []
    },
    {
      "cell_type": "code",
      "source": [
        "counts = df.TAXONOMY.value_counts()"
      ],
      "metadata": {
        "id": "c48dDAqD36Zq"
      },
      "execution_count": 493,
      "outputs": []
    },
    {
      "cell_type": "code",
      "source": [
        "counts.plot.hist()"
      ],
      "metadata": {
        "colab": {
          "base_uri": "https://localhost:8080/",
          "height": 448
        },
        "id": "pRvNNx3h4dCU",
        "outputId": "99a7e932-39f9-4e71-9e3e-332f55e3099d"
      },
      "execution_count": 498,
      "outputs": [
        {
          "output_type": "execute_result",
          "data": {
            "text/plain": [
              "<Axes: ylabel='Frequency'>"
            ]
          },
          "metadata": {},
          "execution_count": 498
        },
        {
          "output_type": "display_data",
          "data": {
            "text/plain": [
              "<Figure size 640x480 with 1 Axes>"
            ],
            "image/png": "[encoded data removed]"
          },
          "metadata": {}
        }
      ]
    },
    {
      "cell_type": "code",
      "source": [
        "keys = list(counts[counts>10].keys())"
      ],
      "metadata": {
        "id": "StrSVvbT4W9P"
      },
      "execution_count": 503,
      "outputs": []
    },
    {
      "cell_type": "code",
      "source": [
        "tax = Taxonomy(df,len(keys))"
      ],
      "metadata": {
        "id": "xTSOeLoA3keV"
      },
      "execution_count": 504,
      "outputs": []
    },
    {
      "cell_type": "code",
      "source": [
        "tax.fit()"
      ],
      "metadata": {
        "colab": {
          "base_uri": "https://localhost:8080/"
        },
        "id": "dM6PEXUS3zbL",
        "outputId": "cb6a3526-f0ba-4f1e-b214-911053346e8f"
      },
      "execution_count": 505,
      "outputs": [
        {
          "output_type": "stream",
          "name": "stdout",
          "text": [
            "[------------------------------------->   ] \n",
            " 2085N0700X Calculating correlations 0.99 \n",
            "time 1.43s \n",
            "time_spent 14s\n"
          ]
        }
      ]
    },
    {
      "cell_type": "code",
      "source": [
        "preds = tax.predict(test_df)"
      ],
      "metadata": {
        "colab": {
          "base_uri": "https://localhost:8080/"
        },
        "id": "JxV1UcPu308a",
        "outputId": "e15a8db3-c5cd-46d9-aa01-f086be28699c"
      },
      "execution_count": 508,
      "outputs": [
        {
          "output_type": "stream",
          "name": "stderr",
          "text": [
            "/usr/local/lib/python3.10/dist-packages/sklearn/preprocessing/_label.py:895: UserWarning: unknown class(es) ['anticoagulant therapy', 'atherectomy', 'bacillary', 'blastomycosis', 'bone marrow failure disorders', 'cefpodoxime', 'celecoxib', 'early goal-directed therapy', 'gingivitis', 'hematology & oncology', 'irritability', 'mucocele', 'naproxen', 'nonvalvular atrial fibrillation', 'opportunistic infections', 'restlessness', 'tramadol', 'transient ischemic attack', 'ventricular dysfunction', 'vocal cords'] will be ignored\n",
            "  warnings.warn(\n",
            "/usr/local/lib/python3.10/dist-packages/sklearn/preprocessing/_label.py:895: UserWarning: unknown class(es) ['anticoagulant therapy', 'atherectomy', 'bacillary', 'blastomycosis', 'bone marrow failure disorders', 'celecoxib', 'early goal-directed therapy', 'gingivitis', 'hematology & oncology', 'mucocele', 'naproxen', 'nonvalvular atrial fibrillation', 'opportunistic infections', 'tramadol', 'transient ischemic attack', 'ventricular dysfunction', 'vocal cords'] will be ignored\n",
            "  warnings.warn(\n",
            "/usr/local/lib/python3.10/dist-packages/sklearn/preprocessing/_label.py:895: UserWarning: unknown class(es) ['anticoagulant therapy', 'atherectomy', 'bacillary', 'blastomycosis', 'bone marrow failure disorders', 'celecoxib', 'gingivitis', 'hematology & oncology', 'mucocele', 'naproxen', 'nonvalvular atrial fibrillation', 'opportunistic infections', 'tramadol', 'transient ischemic attack', 'ventricular dysfunction', 'vocal cords'] will be ignored\n",
            "  warnings.warn(\n",
            "/usr/local/lib/python3.10/dist-packages/sklearn/preprocessing/_label.py:895: UserWarning: unknown class(es) ['anticoagulant therapy', 'atherectomy', 'bacillary', 'blastomycosis', 'bone marrow failure disorders', 'celecoxib', 'gingivitis', 'hematology & oncology', 'mucocele', 'naproxen', 'nonvalvular atrial fibrillation', 'opportunistic infections', 'tramadol', 'transient ischemic attack', 'ventricular dysfunction', 'vocal cords'] will be ignored\n",
            "  warnings.warn(\n",
            "/usr/local/lib/python3.10/dist-packages/sklearn/preprocessing/_label.py:895: UserWarning: unknown class(es) ['atherectomy', 'bacillary', 'blastomycosis', 'bone marrow failure disorders', 'celecoxib', 'gingivitis', 'hematology & oncology', 'mucocele', 'naproxen', 'opportunistic infections', 'tramadol', 'ventricular dysfunction', 'vocal cords'] will be ignored\n",
            "  warnings.warn(\n",
            "/usr/local/lib/python3.10/dist-packages/sklearn/preprocessing/_label.py:895: UserWarning: unknown class(es) ['atherectomy', 'bacillary', 'blastomycosis', 'bone marrow failure disorders', 'celecoxib', 'gingivitis', 'hematology & oncology', 'mucocele', 'naproxen', 'opportunistic infections', 'tramadol', 'ventricular dysfunction', 'vocal cords'] will be ignored\n",
            "  warnings.warn(\n",
            "/usr/local/lib/python3.10/dist-packages/sklearn/preprocessing/_label.py:895: UserWarning: unknown class(es) ['atherectomy', 'bacillary', 'blastomycosis', 'bone marrow failure disorders', 'celecoxib', 'gingivitis', 'hematology & oncology', 'mucocele', 'naproxen', 'opportunistic infections', 'tramadol', 'ventricular dysfunction', 'vocal cords'] will be ignored\n",
            "  warnings.warn(\n",
            "/usr/local/lib/python3.10/dist-packages/sklearn/preprocessing/_label.py:895: UserWarning: unknown class(es) ['atherectomy', 'bacillary', 'blastomycosis', 'bone marrow failure disorders', 'celecoxib', 'gingivitis', 'hematology & oncology', 'mucocele', 'naproxen', 'opportunistic infections', 'tramadol', 'ventricular dysfunction', 'vocal cords'] will be ignored\n",
            "  warnings.warn(\n",
            "/usr/local/lib/python3.10/dist-packages/sklearn/preprocessing/_label.py:895: UserWarning: unknown class(es) ['atherectomy', 'bacillary', 'blastomycosis', 'bone marrow failure disorders', 'celecoxib', 'gingivitis', 'hematology & oncology', 'mucocele', 'naproxen', 'opportunistic infections', 'tramadol', 'ventricular dysfunction', 'vocal cords'] will be ignored\n",
            "  warnings.warn(\n",
            "/usr/local/lib/python3.10/dist-packages/sklearn/preprocessing/_label.py:895: UserWarning: unknown class(es) ['atherectomy', 'bacillary', 'blastomycosis', 'bone marrow failure disorders', 'celecoxib', 'gingivitis', 'hematology & oncology', 'mucocele', 'naproxen', 'opportunistic infections', 'tramadol', 'ventricular dysfunction', 'vocal cords'] will be ignored\n",
            "  warnings.warn(\n",
            "/usr/local/lib/python3.10/dist-packages/sklearn/preprocessing/_label.py:895: UserWarning: unknown class(es) ['atherectomy', 'bacillary', 'blastomycosis', 'bone marrow failure disorders', 'celecoxib', 'gingivitis', 'hematology & oncology', 'mucocele', 'naproxen', 'opportunistic infections', 'tramadol', 'ventricular dysfunction', 'vocal cords'] will be ignored\n",
            "  warnings.warn(\n",
            "/usr/local/lib/python3.10/dist-packages/sklearn/preprocessing/_label.py:895: UserWarning: unknown class(es) ['bacillary', 'blastomycosis', 'bone marrow failure disorders', 'celecoxib', 'gingivitis', 'hematology & oncology', 'mucocele', 'naproxen', 'opportunistic infections', 'tramadol', 'ventricular dysfunction', 'vocal cords'] will be ignored\n",
            "  warnings.warn(\n",
            "/usr/local/lib/python3.10/dist-packages/sklearn/preprocessing/_label.py:895: UserWarning: unknown class(es) ['bacillary', 'blastomycosis', 'bone marrow failure disorders', 'celecoxib', 'gingivitis', 'hematology & oncology', 'mucocele', 'naproxen', 'opportunistic infections', 'tramadol', 'ventricular dysfunction', 'vocal cords'] will be ignored\n",
            "  warnings.warn(\n",
            "/usr/local/lib/python3.10/dist-packages/sklearn/preprocessing/_label.py:895: UserWarning: unknown class(es) ['bacillary', 'blastomycosis', 'bone marrow failure disorders', 'celecoxib', 'gingivitis', 'hematology & oncology', 'mucocele', 'naproxen', 'opportunistic infections', 'tramadol', 'ventricular dysfunction', 'vocal cords'] will be ignored\n",
            "  warnings.warn(\n",
            "/usr/local/lib/python3.10/dist-packages/sklearn/preprocessing/_label.py:895: UserWarning: unknown class(es) ['bacillary', 'blastomycosis', 'bone marrow failure disorders', 'gingivitis', 'hematology & oncology', 'mucocele', 'opportunistic infections', 'ventricular dysfunction', 'vocal cords'] will be ignored\n",
            "  warnings.warn(\n",
            "/usr/local/lib/python3.10/dist-packages/sklearn/preprocessing/_label.py:895: UserWarning: unknown class(es) ['bacillary', 'blastomycosis', 'bone marrow failure disorders', 'gingivitis', 'hematology & oncology', 'mucocele', 'opportunistic infections', 'vocal cords'] will be ignored\n",
            "  warnings.warn(\n",
            "/usr/local/lib/python3.10/dist-packages/sklearn/preprocessing/_label.py:895: UserWarning: unknown class(es) ['bacillary', 'blastomycosis', 'bone marrow failure disorders', 'gingivitis', 'hematology & oncology', 'mucocele', 'opportunistic infections', 'vocal cords'] will be ignored\n",
            "  warnings.warn(\n",
            "/usr/local/lib/python3.10/dist-packages/sklearn/preprocessing/_label.py:895: UserWarning: unknown class(es) ['bacillary', 'blastomycosis', 'bone marrow failure disorders', 'gingivitis', 'hematology & oncology', 'mucocele', 'opportunistic infections', 'vocal cords'] will be ignored\n",
            "  warnings.warn(\n",
            "/usr/local/lib/python3.10/dist-packages/sklearn/preprocessing/_label.py:895: UserWarning: unknown class(es) ['bacillary', 'blastomycosis', 'bone marrow failure disorders', 'gingivitis', 'hematology & oncology', 'mucocele', 'opportunistic infections', 'vocal cords'] will be ignored\n",
            "  warnings.warn(\n",
            "/usr/local/lib/python3.10/dist-packages/sklearn/preprocessing/_label.py:895: UserWarning: unknown class(es) ['bacillary', 'blastomycosis', 'bone marrow failure disorders', 'gingivitis', 'hematology & oncology', 'mucocele', 'opportunistic infections', 'vocal cords'] will be ignored\n",
            "  warnings.warn(\n",
            "/usr/local/lib/python3.10/dist-packages/sklearn/preprocessing/_label.py:895: UserWarning: unknown class(es) ['bacillary', 'blastomycosis', 'bone marrow failure disorders', 'gingivitis', 'hematology & oncology', 'mucocele', 'opportunistic infections', 'vocal cords'] will be ignored\n",
            "  warnings.warn(\n",
            "/usr/local/lib/python3.10/dist-packages/sklearn/preprocessing/_label.py:895: UserWarning: unknown class(es) ['bacillary', 'blastomycosis', 'bone marrow failure disorders', 'gingivitis', 'hematology & oncology', 'mucocele', 'opportunistic infections', 'vocal cords'] will be ignored\n",
            "  warnings.warn(\n",
            "/usr/local/lib/python3.10/dist-packages/sklearn/preprocessing/_label.py:895: UserWarning: unknown class(es) ['bacillary', 'blastomycosis', 'bone marrow failure disorders', 'gingivitis', 'hematology & oncology', 'mucocele', 'opportunistic infections', 'vocal cords'] will be ignored\n",
            "  warnings.warn(\n",
            "/usr/local/lib/python3.10/dist-packages/sklearn/preprocessing/_label.py:895: UserWarning: unknown class(es) ['bacillary', 'blastomycosis', 'bone marrow failure disorders', 'gingivitis', 'hematology & oncology', 'mucocele', 'opportunistic infections', 'vocal cords'] will be ignored\n",
            "  warnings.warn(\n",
            "/usr/local/lib/python3.10/dist-packages/sklearn/preprocessing/_label.py:895: UserWarning: unknown class(es) ['bacillary', 'blastomycosis', 'bone marrow failure disorders', 'gingivitis', 'hematology & oncology', 'mucocele', 'opportunistic infections', 'vocal cords'] will be ignored\n",
            "  warnings.warn(\n",
            "/usr/local/lib/python3.10/dist-packages/sklearn/preprocessing/_label.py:895: UserWarning: unknown class(es) ['bacillary', 'blastomycosis', 'bone marrow failure disorders', 'gingivitis', 'hematology & oncology', 'mucocele', 'opportunistic infections', 'vocal cords'] will be ignored\n",
            "  warnings.warn(\n",
            "/usr/local/lib/python3.10/dist-packages/sklearn/preprocessing/_label.py:895: UserWarning: unknown class(es) ['bacillary', 'blastomycosis', 'gingivitis', 'hematology & oncology', 'mucocele', 'opportunistic infections', 'vocal cords'] will be ignored\n",
            "  warnings.warn(\n",
            "/usr/local/lib/python3.10/dist-packages/sklearn/preprocessing/_label.py:895: UserWarning: unknown class(es) ['bacillary', 'blastomycosis', 'gingivitis', 'hematology & oncology', 'mucocele', 'opportunistic infections', 'vocal cords'] will be ignored\n",
            "  warnings.warn(\n",
            "/usr/local/lib/python3.10/dist-packages/sklearn/preprocessing/_label.py:895: UserWarning: unknown class(es) ['bacillary', 'blastomycosis', 'gingivitis', 'hematology & oncology', 'mucocele', 'opportunistic infections', 'vocal cords'] will be ignored\n",
            "  warnings.warn(\n",
            "/usr/local/lib/python3.10/dist-packages/sklearn/preprocessing/_label.py:895: UserWarning: unknown class(es) ['bacillary', 'blastomycosis', 'gingivitis', 'hematology & oncology', 'mucocele', 'opportunistic infections', 'vocal cords'] will be ignored\n",
            "  warnings.warn(\n",
            "/usr/local/lib/python3.10/dist-packages/sklearn/preprocessing/_label.py:895: UserWarning: unknown class(es) ['bacillary', 'blastomycosis', 'gingivitis', 'hematology & oncology', 'mucocele', 'opportunistic infections', 'vocal cords'] will be ignored\n",
            "  warnings.warn(\n",
            "/usr/local/lib/python3.10/dist-packages/sklearn/preprocessing/_label.py:895: UserWarning: unknown class(es) ['bacillary', 'blastomycosis', 'gingivitis', 'hematology & oncology', 'mucocele', 'opportunistic infections', 'vocal cords'] will be ignored\n",
            "  warnings.warn(\n",
            "/usr/local/lib/python3.10/dist-packages/sklearn/preprocessing/_label.py:895: UserWarning: unknown class(es) ['bacillary', 'blastomycosis', 'gingivitis', 'hematology & oncology', 'mucocele', 'opportunistic infections', 'vocal cords'] will be ignored\n",
            "  warnings.warn(\n",
            "/usr/local/lib/python3.10/dist-packages/sklearn/preprocessing/_label.py:895: UserWarning: unknown class(es) ['bacillary', 'blastomycosis', 'gingivitis', 'hematology & oncology', 'mucocele', 'opportunistic infections', 'vocal cords'] will be ignored\n",
            "  warnings.warn(\n",
            "/usr/local/lib/python3.10/dist-packages/sklearn/preprocessing/_label.py:895: UserWarning: unknown class(es) ['bacillary', 'blastomycosis', 'gingivitis', 'hematology & oncology', 'mucocele', 'opportunistic infections', 'vocal cords'] will be ignored\n",
            "  warnings.warn(\n",
            "/usr/local/lib/python3.10/dist-packages/sklearn/preprocessing/_label.py:895: UserWarning: unknown class(es) ['bacillary', 'blastomycosis', 'gingivitis', 'hematology & oncology', 'mucocele', 'opportunistic infections', 'vocal cords'] will be ignored\n",
            "  warnings.warn(\n",
            "/usr/local/lib/python3.10/dist-packages/sklearn/preprocessing/_label.py:895: UserWarning: unknown class(es) ['bacillary', 'blastomycosis', 'gingivitis', 'hematology & oncology', 'mucocele', 'opportunistic infections', 'vocal cords'] will be ignored\n",
            "  warnings.warn(\n",
            "/usr/local/lib/python3.10/dist-packages/sklearn/preprocessing/_label.py:895: UserWarning: unknown class(es) ['bacillary', 'blastomycosis', 'gingivitis', 'hematology & oncology', 'mucocele', 'opportunistic infections', 'vocal cords'] will be ignored\n",
            "  warnings.warn(\n",
            "/usr/local/lib/python3.10/dist-packages/sklearn/preprocessing/_label.py:895: UserWarning: unknown class(es) ['bacillary', 'blastomycosis', 'gingivitis', 'hematology & oncology', 'mucocele', 'opportunistic infections', 'vocal cords'] will be ignored\n",
            "  warnings.warn(\n",
            "/usr/local/lib/python3.10/dist-packages/sklearn/preprocessing/_label.py:895: UserWarning: unknown class(es) ['bacillary', 'blastomycosis', 'gingivitis', 'hematology & oncology', 'mucocele', 'opportunistic infections', 'vocal cords'] will be ignored\n",
            "  warnings.warn(\n",
            "/usr/local/lib/python3.10/dist-packages/sklearn/preprocessing/_label.py:895: UserWarning: unknown class(es) ['bacillary', 'blastomycosis', 'gingivitis', 'hematology & oncology', 'mucocele', 'opportunistic infections', 'vocal cords'] will be ignored\n",
            "  warnings.warn(\n",
            "/usr/local/lib/python3.10/dist-packages/sklearn/preprocessing/_label.py:895: UserWarning: unknown class(es) ['bacillary', 'blastomycosis', 'gingivitis', 'hematology & oncology', 'mucocele', 'opportunistic infections', 'vocal cords'] will be ignored\n",
            "  warnings.warn(\n",
            "/usr/local/lib/python3.10/dist-packages/sklearn/preprocessing/_label.py:895: UserWarning: unknown class(es) ['bacillary', 'blastomycosis', 'gingivitis', 'hematology & oncology', 'mucocele', 'opportunistic infections', 'vocal cords'] will be ignored\n",
            "  warnings.warn(\n",
            "/usr/local/lib/python3.10/dist-packages/sklearn/preprocessing/_label.py:895: UserWarning: unknown class(es) ['bacillary', 'blastomycosis', 'gingivitis', 'hematology & oncology', 'mucocele', 'opportunistic infections', 'vocal cords'] will be ignored\n",
            "  warnings.warn(\n",
            "/usr/local/lib/python3.10/dist-packages/sklearn/preprocessing/_label.py:895: UserWarning: unknown class(es) ['bacillary', 'blastomycosis', 'gingivitis', 'hematology & oncology', 'mucocele', 'opportunistic infections', 'vocal cords'] will be ignored\n",
            "  warnings.warn(\n",
            "/usr/local/lib/python3.10/dist-packages/sklearn/preprocessing/_label.py:895: UserWarning: unknown class(es) ['bacillary', 'blastomycosis', 'gingivitis', 'hematology & oncology', 'mucocele', 'opportunistic infections', 'vocal cords'] will be ignored\n",
            "  warnings.warn(\n",
            "/usr/local/lib/python3.10/dist-packages/sklearn/preprocessing/_label.py:895: UserWarning: unknown class(es) ['bacillary', 'blastomycosis', 'gingivitis', 'hematology & oncology', 'mucocele', 'opportunistic infections', 'vocal cords'] will be ignored\n",
            "  warnings.warn(\n",
            "/usr/local/lib/python3.10/dist-packages/sklearn/preprocessing/_label.py:895: UserWarning: unknown class(es) ['bacillary', 'blastomycosis', 'gingivitis', 'hematology & oncology', 'mucocele', 'opportunistic infections', 'vocal cords'] will be ignored\n",
            "  warnings.warn(\n",
            "/usr/local/lib/python3.10/dist-packages/sklearn/preprocessing/_label.py:895: UserWarning: unknown class(es) ['bacillary', 'blastomycosis', 'gingivitis', 'hematology & oncology', 'mucocele', 'opportunistic infections', 'vocal cords'] will be ignored\n",
            "  warnings.warn(\n",
            "/usr/local/lib/python3.10/dist-packages/sklearn/preprocessing/_label.py:895: UserWarning: unknown class(es) ['bacillary', 'blastomycosis', 'gingivitis', 'hematology & oncology', 'mucocele', 'opportunistic infections', 'vocal cords'] will be ignored\n",
            "  warnings.warn(\n",
            "/usr/local/lib/python3.10/dist-packages/sklearn/preprocessing/_label.py:895: UserWarning: unknown class(es) ['bacillary', 'blastomycosis', 'gingivitis', 'hematology & oncology', 'mucocele', 'opportunistic infections', 'vocal cords'] will be ignored\n",
            "  warnings.warn(\n",
            "/usr/local/lib/python3.10/dist-packages/sklearn/preprocessing/_label.py:895: UserWarning: unknown class(es) ['bacillary', 'blastomycosis', 'gingivitis', 'hematology & oncology', 'mucocele', 'opportunistic infections', 'vocal cords'] will be ignored\n",
            "  warnings.warn(\n",
            "/usr/local/lib/python3.10/dist-packages/sklearn/preprocessing/_label.py:895: UserWarning: unknown class(es) ['bacillary', 'blastomycosis', 'gingivitis', 'hematology & oncology', 'mucocele', 'opportunistic infections', 'vocal cords'] will be ignored\n",
            "  warnings.warn(\n",
            "/usr/local/lib/python3.10/dist-packages/sklearn/preprocessing/_label.py:895: UserWarning: unknown class(es) ['bacillary', 'blastomycosis', 'gingivitis', 'hematology & oncology', 'mucocele', 'opportunistic infections', 'vocal cords'] will be ignored\n",
            "  warnings.warn(\n",
            "/usr/local/lib/python3.10/dist-packages/sklearn/preprocessing/_label.py:895: UserWarning: unknown class(es) ['bacillary', 'blastomycosis', 'gingivitis', 'hematology & oncology', 'mucocele', 'opportunistic infections', 'vocal cords'] will be ignored\n",
            "  warnings.warn(\n",
            "/usr/local/lib/python3.10/dist-packages/sklearn/preprocessing/_label.py:895: UserWarning: unknown class(es) ['bacillary', 'blastomycosis', 'gingivitis', 'mucocele', 'opportunistic infections', 'vocal cords'] will be ignored\n",
            "  warnings.warn(\n",
            "/usr/local/lib/python3.10/dist-packages/sklearn/preprocessing/_label.py:895: UserWarning: unknown class(es) ['bacillary', 'blastomycosis', 'gingivitis', 'mucocele', 'opportunistic infections', 'vocal cords'] will be ignored\n",
            "  warnings.warn(\n",
            "/usr/local/lib/python3.10/dist-packages/sklearn/preprocessing/_label.py:895: UserWarning: unknown class(es) ['bacillary', 'blastomycosis', 'gingivitis', 'mucocele', 'opportunistic infections', 'vocal cords'] will be ignored\n",
            "  warnings.warn(\n",
            "/usr/local/lib/python3.10/dist-packages/sklearn/preprocessing/_label.py:895: UserWarning: unknown class(es) ['bacillary', 'blastomycosis', 'gingivitis', 'mucocele', 'opportunistic infections', 'vocal cords'] will be ignored\n",
            "  warnings.warn(\n",
            "/usr/local/lib/python3.10/dist-packages/sklearn/preprocessing/_label.py:895: UserWarning: unknown class(es) ['bacillary', 'blastomycosis', 'gingivitis', 'mucocele', 'opportunistic infections', 'vocal cords'] will be ignored\n",
            "  warnings.warn(\n",
            "/usr/local/lib/python3.10/dist-packages/sklearn/preprocessing/_label.py:895: UserWarning: unknown class(es) ['bacillary', 'blastomycosis', 'gingivitis', 'mucocele', 'opportunistic infections', 'vocal cords'] will be ignored\n",
            "  warnings.warn(\n",
            "/usr/local/lib/python3.10/dist-packages/sklearn/preprocessing/_label.py:895: UserWarning: unknown class(es) ['bacillary', 'blastomycosis', 'gingivitis', 'mucocele', 'opportunistic infections', 'vocal cords'] will be ignored\n",
            "  warnings.warn(\n",
            "/usr/local/lib/python3.10/dist-packages/sklearn/preprocessing/_label.py:895: UserWarning: unknown class(es) ['bacillary', 'blastomycosis', 'gingivitis', 'mucocele', 'opportunistic infections', 'vocal cords'] will be ignored\n",
            "  warnings.warn(\n",
            "/usr/local/lib/python3.10/dist-packages/sklearn/preprocessing/_label.py:895: UserWarning: unknown class(es) ['bacillary', 'blastomycosis', 'gingivitis', 'mucocele', 'opportunistic infections', 'vocal cords'] will be ignored\n",
            "  warnings.warn(\n",
            "/usr/local/lib/python3.10/dist-packages/sklearn/preprocessing/_label.py:895: UserWarning: unknown class(es) ['bacillary', 'blastomycosis', 'gingivitis', 'mucocele', 'opportunistic infections', 'vocal cords'] will be ignored\n",
            "  warnings.warn(\n",
            "/usr/local/lib/python3.10/dist-packages/sklearn/preprocessing/_label.py:895: UserWarning: unknown class(es) ['bacillary', 'blastomycosis', 'gingivitis', 'mucocele', 'opportunistic infections', 'vocal cords'] will be ignored\n",
            "  warnings.warn(\n",
            "/usr/local/lib/python3.10/dist-packages/sklearn/preprocessing/_label.py:895: UserWarning: unknown class(es) ['bacillary', 'blastomycosis', 'gingivitis', 'mucocele', 'opportunistic infections', 'vocal cords'] will be ignored\n",
            "  warnings.warn(\n",
            "/usr/local/lib/python3.10/dist-packages/sklearn/preprocessing/_label.py:895: UserWarning: unknown class(es) ['bacillary', 'blastomycosis', 'gingivitis', 'mucocele', 'opportunistic infections', 'vocal cords'] will be ignored\n",
            "  warnings.warn(\n",
            "/usr/local/lib/python3.10/dist-packages/sklearn/preprocessing/_label.py:895: UserWarning: unknown class(es) ['bacillary', 'blastomycosis', 'gingivitis', 'mucocele', 'opportunistic infections', 'vocal cords'] will be ignored\n",
            "  warnings.warn(\n",
            "/usr/local/lib/python3.10/dist-packages/sklearn/preprocessing/_label.py:895: UserWarning: unknown class(es) ['bacillary', 'blastomycosis', 'gingivitis', 'mucocele', 'opportunistic infections', 'vocal cords'] will be ignored\n",
            "  warnings.warn(\n",
            "/usr/local/lib/python3.10/dist-packages/sklearn/preprocessing/_label.py:895: UserWarning: unknown class(es) ['bacillary', 'blastomycosis', 'gingivitis', 'mucocele', 'opportunistic infections', 'vocal cords'] will be ignored\n",
            "  warnings.warn(\n",
            "/usr/local/lib/python3.10/dist-packages/sklearn/preprocessing/_label.py:895: UserWarning: unknown class(es) ['bacillary', 'blastomycosis', 'gingivitis', 'mucocele', 'opportunistic infections', 'vocal cords'] will be ignored\n",
            "  warnings.warn(\n",
            "/usr/local/lib/python3.10/dist-packages/sklearn/preprocessing/_label.py:895: UserWarning: unknown class(es) ['bacillary', 'blastomycosis', 'gingivitis', 'mucocele', 'opportunistic infections', 'vocal cords'] will be ignored\n",
            "  warnings.warn(\n",
            "/usr/local/lib/python3.10/dist-packages/sklearn/preprocessing/_label.py:895: UserWarning: unknown class(es) ['bacillary', 'blastomycosis', 'gingivitis', 'mucocele', 'opportunistic infections', 'vocal cords'] will be ignored\n",
            "  warnings.warn(\n",
            "/usr/local/lib/python3.10/dist-packages/sklearn/preprocessing/_label.py:895: UserWarning: unknown class(es) ['bacillary', 'blastomycosis', 'gingivitis', 'mucocele', 'opportunistic infections', 'vocal cords'] will be ignored\n",
            "  warnings.warn(\n",
            "/usr/local/lib/python3.10/dist-packages/sklearn/preprocessing/_label.py:895: UserWarning: unknown class(es) ['bacillary', 'blastomycosis', 'gingivitis', 'mucocele', 'opportunistic infections', 'vocal cords'] will be ignored\n",
            "  warnings.warn(\n",
            "/usr/local/lib/python3.10/dist-packages/sklearn/preprocessing/_label.py:895: UserWarning: unknown class(es) ['bacillary', 'blastomycosis', 'gingivitis', 'mucocele', 'opportunistic infections', 'vocal cords'] will be ignored\n",
            "  warnings.warn(\n",
            "/usr/local/lib/python3.10/dist-packages/sklearn/preprocessing/_label.py:895: UserWarning: unknown class(es) ['bacillary', 'blastomycosis', 'gingivitis', 'mucocele', 'opportunistic infections', 'vocal cords'] will be ignored\n",
            "  warnings.warn(\n",
            "/usr/local/lib/python3.10/dist-packages/sklearn/preprocessing/_label.py:895: UserWarning: unknown class(es) ['bacillary', 'blastomycosis', 'gingivitis', 'mucocele', 'opportunistic infections', 'vocal cords'] will be ignored\n",
            "  warnings.warn(\n",
            "/usr/local/lib/python3.10/dist-packages/sklearn/preprocessing/_label.py:895: UserWarning: unknown class(es) ['bacillary', 'blastomycosis', 'gingivitis', 'mucocele', 'opportunistic infections', 'vocal cords'] will be ignored\n",
            "  warnings.warn(\n",
            "/usr/local/lib/python3.10/dist-packages/sklearn/preprocessing/_label.py:895: UserWarning: unknown class(es) ['bacillary', 'blastomycosis', 'gingivitis', 'mucocele', 'opportunistic infections', 'vocal cords'] will be ignored\n",
            "  warnings.warn(\n",
            "/usr/local/lib/python3.10/dist-packages/sklearn/preprocessing/_label.py:895: UserWarning: unknown class(es) ['bacillary', 'blastomycosis', 'gingivitis', 'mucocele', 'opportunistic infections', 'vocal cords'] will be ignored\n",
            "  warnings.warn(\n",
            "/usr/local/lib/python3.10/dist-packages/sklearn/preprocessing/_label.py:895: UserWarning: unknown class(es) ['bacillary', 'blastomycosis', 'gingivitis', 'mucocele', 'opportunistic infections', 'vocal cords'] will be ignored\n",
            "  warnings.warn(\n",
            "/usr/local/lib/python3.10/dist-packages/sklearn/preprocessing/_label.py:895: UserWarning: unknown class(es) ['bacillary', 'blastomycosis', 'gingivitis', 'mucocele', 'opportunistic infections', 'vocal cords'] will be ignored\n",
            "  warnings.warn(\n",
            "/usr/local/lib/python3.10/dist-packages/sklearn/preprocessing/_label.py:895: UserWarning: unknown class(es) ['bacillary', 'blastomycosis', 'gingivitis', 'mucocele', 'opportunistic infections', 'vocal cords'] will be ignored\n",
            "  warnings.warn(\n",
            "/usr/local/lib/python3.10/dist-packages/sklearn/preprocessing/_label.py:895: UserWarning: unknown class(es) ['bacillary', 'blastomycosis', 'gingivitis', 'mucocele', 'opportunistic infections', 'vocal cords'] will be ignored\n",
            "  warnings.warn(\n",
            "/usr/local/lib/python3.10/dist-packages/sklearn/preprocessing/_label.py:895: UserWarning: unknown class(es) ['bacillary', 'blastomycosis', 'gingivitis', 'mucocele', 'opportunistic infections', 'vocal cords'] will be ignored\n",
            "  warnings.warn(\n",
            "/usr/local/lib/python3.10/dist-packages/sklearn/preprocessing/_label.py:895: UserWarning: unknown class(es) ['bacillary', 'blastomycosis', 'gingivitis', 'mucocele', 'opportunistic infections', 'vocal cords'] will be ignored\n",
            "  warnings.warn(\n",
            "/usr/local/lib/python3.10/dist-packages/sklearn/preprocessing/_label.py:895: UserWarning: unknown class(es) ['bacillary', 'blastomycosis', 'gingivitis', 'mucocele', 'opportunistic infections', 'vocal cords'] will be ignored\n",
            "  warnings.warn(\n",
            "/usr/local/lib/python3.10/dist-packages/sklearn/preprocessing/_label.py:895: UserWarning: unknown class(es) ['bacillary', 'blastomycosis', 'gingivitis', 'mucocele', 'opportunistic infections', 'vocal cords'] will be ignored\n",
            "  warnings.warn(\n",
            "/usr/local/lib/python3.10/dist-packages/sklearn/preprocessing/_label.py:895: UserWarning: unknown class(es) ['bacillary', 'blastomycosis', 'gingivitis', 'mucocele', 'opportunistic infections', 'vocal cords'] will be ignored\n",
            "  warnings.warn(\n",
            "/usr/local/lib/python3.10/dist-packages/sklearn/preprocessing/_label.py:895: UserWarning: unknown class(es) ['bacillary', 'blastomycosis', 'gingivitis', 'mucocele', 'opportunistic infections', 'vocal cords'] will be ignored\n",
            "  warnings.warn(\n",
            "/usr/local/lib/python3.10/dist-packages/sklearn/preprocessing/_label.py:895: UserWarning: unknown class(es) ['bacillary', 'blastomycosis', 'gingivitis', 'mucocele', 'opportunistic infections', 'vocal cords'] will be ignored\n",
            "  warnings.warn(\n",
            "/usr/local/lib/python3.10/dist-packages/sklearn/preprocessing/_label.py:895: UserWarning: unknown class(es) ['bacillary', 'blastomycosis', 'gingivitis', 'mucocele', 'opportunistic infections', 'vocal cords'] will be ignored\n",
            "  warnings.warn(\n"
          ]
        }
      ]
    },
    {
      "cell_type": "code",
      "source": [
        "preds.index = test_df.index"
      ],
      "metadata": {
        "id": "vjeSo5K9B_6Q"
      },
      "execution_count": 516,
      "outputs": []
    },
    {
      "cell_type": "code",
      "source": [
        "final_test_solns = final_test_solns.join(preds)"
      ],
      "metadata": {
        "id": "M_5YK9yWBkav"
      },
      "execution_count": 520,
      "outputs": []
    },
    {
      "cell_type": "code",
      "source": [
        "final_test_solns.Taxonomy.value_counts()"
      ],
      "metadata": {
        "colab": {
          "base_uri": "https://localhost:8080/"
        },
        "id": "9NHX0aBaBoIl",
        "outputId": "a5b9d440-9626-4cd2-c82f-8ff3ecef79f1"
      },
      "execution_count": 522,
      "outputs": [
        {
          "output_type": "stream",
          "name": "stderr",
          "text": [
            "/usr/local/lib/python3.10/dist-packages/ipykernel/ipkernel.py:283: DeprecationWarning: `should_run_async` will not call `transform_cell` automatically in the future. Please pass the result to `transformed_cell` argument and any exception that happen during thetransform in `preprocessing_exc_tuple` in IPython 7.17 and above.\n",
            "  and should_run_async(code)\n"
          ]
        },
        {
          "output_type": "execute_result",
          "data": {
            "text/plain": [
              "2084P0800X    2131\n",
              "2084N0400X    1493\n",
              "0             1218\n",
              "207Q00000X     825\n",
              "207R00000X     650\n",
              "              ... \n",
              "204C00000X       1\n",
              "207QA0401X       1\n",
              "207QH0002X       1\n",
              "363LA2100X       1\n",
              "163WP0808X       1\n",
              "Name: Taxonomy, Length: 91, dtype: int64"
            ]
          },
          "metadata": {},
          "execution_count": 522
        }
      ]
    },
    {
      "cell_type": "code",
      "source": [
        "final_test_solns.isna().sum()"
      ],
      "metadata": {
        "colab": {
          "base_uri": "https://localhost:8080/"
        },
        "id": "01JYCf5MCWz6",
        "outputId": "f6e778e7-1e2f-4b0b-fd9e-a2c5a931a6d4"
      },
      "execution_count": 524,
      "outputs": [
        {
          "output_type": "stream",
          "name": "stderr",
          "text": [
            "/usr/local/lib/python3.10/dist-packages/ipykernel/ipkernel.py:283: DeprecationWarning: `should_run_async` will not call `transform_cell` automatically in the future. Please pass the result to `transformed_cell` argument and any exception that happen during thetransform in `preprocessing_exc_tuple` in IPython 7.17 and above.\n",
            "  and should_run_async(code)\n"
          ]
        },
        {
          "output_type": "execute_result",
          "data": {
            "text/plain": [
              "ID              0\n",
              "IS_HCP          0\n",
              "Taxonomy    20039\n",
              "dtype: int64"
            ]
          },
          "metadata": {},
          "execution_count": 524
        }
      ]
    },
    {
      "cell_type": "code",
      "source": [
        "preds.Taxonomy.value_counts()"
      ],
      "metadata": {
        "colab": {
          "base_uri": "https://localhost:8080/"
        },
        "id": "yhPp4Qc-CkM_",
        "outputId": "49c941e6-0f61-47a0-a198-a50659ee92ce"
      },
      "execution_count": 526,
      "outputs": [
        {
          "output_type": "stream",
          "name": "stderr",
          "text": [
            "/usr/local/lib/python3.10/dist-packages/ipykernel/ipkernel.py:283: DeprecationWarning: `should_run_async` will not call `transform_cell` automatically in the future. Please pass the result to `transformed_cell` argument and any exception that happen during thetransform in `preprocessing_exc_tuple` in IPython 7.17 and above.\n",
            "  and should_run_async(code)\n"
          ]
        },
        {
          "output_type": "execute_result",
          "data": {
            "text/plain": [
              "2084P0800X    2131\n",
              "2084N0400X    1493\n",
              "0             1218\n",
              "207Q00000X     825\n",
              "207R00000X     650\n",
              "              ... \n",
              "204C00000X       1\n",
              "207QA0401X       1\n",
              "207QH0002X       1\n",
              "363LA2100X       1\n",
              "163WP0808X       1\n",
              "Name: Taxonomy, Length: 91, dtype: int64"
            ]
          },
          "metadata": {},
          "execution_count": 526
        }
      ]
    },
    {
      "cell_type": "code",
      "source": [
        "final_test_solns.to_csv('Taxonomy.csv')"
      ],
      "metadata": {
        "colab": {
          "base_uri": "https://localhost:8080/"
        },
        "id": "jXKJ0vwUCnwM",
        "outputId": "b958fbc4-0469-46af-98f8-68b9ba0bbc7d"
      },
      "execution_count": 529,
      "outputs": [
        {
          "output_type": "stream",
          "name": "stderr",
          "text": [
            "/usr/local/lib/python3.10/dist-packages/ipykernel/ipkernel.py:283: DeprecationWarning: `should_run_async` will not call `transform_cell` automatically in the future. Please pass the result to `transformed_cell` argument and any exception that happen during thetransform in `preprocessing_exc_tuple` in IPython 7.17 and above.\n",
            "  and should_run_async(code)\n",
            "<frozen importlib._bootstrap>:914: ImportWarning: APICoreClientInfoImportHook.find_spec() not found; falling back to find_module()\n",
            "<frozen importlib._bootstrap>:914: ImportWarning: _PyDriveImportHook.find_spec() not found; falling back to find_module()\n",
            "<frozen importlib._bootstrap>:914: ImportWarning: _OpenCVImportHook.find_spec() not found; falling back to find_module()\n",
            "<frozen importlib._bootstrap>:914: ImportWarning: _BokehImportHook.find_spec() not found; falling back to find_module()\n",
            "<frozen importlib._bootstrap>:914: ImportWarning: _AltairImportHook.find_spec() not found; falling back to find_module()\n"
          ]
        }
      ]
    },
    {
      "cell_type": "code",
      "source": [],
      "metadata": {
        "id": "TTvhaR7bC67x"
      },
      "execution_count": null,
      "outputs": []
    }
  ],
  "metadata": {
    "colab": {
      "provenance": []
    },
    "kernelspec": {
      "display_name": "Python 3",
      "name": "python3"
    },
    "language_info": {
      "name": "python"
    }
  },
  "nbformat": 4,
  "nbformat_minor": 0
}