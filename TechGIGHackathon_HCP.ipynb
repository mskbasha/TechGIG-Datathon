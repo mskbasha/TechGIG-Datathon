{
  "cells": [
    {
      "cell_type": "markdown",
      "source": [
        "# Prediction Health care Professionals from add data\n",
        "\n"
      ],
      "metadata": {
        "id": "jMfdUc1xEo7-"
      }
    },
    {
      "cell_type": "code",
      "execution_count": null,
      "metadata": {
        "id": "d5bq6MJ_MCYN",
        "colab": {
          "base_uri": "https://localhost:8080/"
        },
        "outputId": "d5c29932-fef0-4d24-84b9-cf2792d0dc87"
      },
      "outputs": [
        {
          "output_type": "stream",
          "name": "stdout",
          "text": [
            "\u001b[2K     \u001b[90m━━━━━━━━━━━━━━━━━━━━━━━━━━━━━━━━━━━━━━━━\u001b[0m \u001b[32m16.4/16.4 MB\u001b[0m \u001b[31m23.0 MB/s\u001b[0m eta \u001b[36m0:00:00\u001b[0m\n",
            "\u001b[2K     \u001b[90m━━━━━━━━━━━━━━━━━━━━━━━━━━━━━━━━━━━━━━━━\u001b[0m \u001b[32m98.6/98.6 MB\u001b[0m \u001b[31m6.9 MB/s\u001b[0m eta \u001b[36m0:00:00\u001b[0m\n",
            "\u001b[2K     \u001b[90m━━━━━━━━━━━━━━━━━━━━━━━━━━━━━━━━━━━━━━━━\u001b[0m \u001b[32m81.9/81.9 kB\u001b[0m \u001b[31m3.0 MB/s\u001b[0m eta \u001b[36m0:00:00\u001b[0m\n",
            "\u001b[?25h"
          ]
        }
      ],
      "source": [
        "!pip install tensorflow tensorflow_decision_forests --quiet\n",
        "!pip install catboost --quiet\n",
        "!pip install xgboost --quiet\n",
        "!pip install category_encoders --quiet"
      ]
    },
    {
      "cell_type": "code",
      "execution_count": null,
      "metadata": {
        "id": "MXpiTvTSimjM"
      },
      "outputs": [],
      "source": [
        "def cramers_v(x, y):\n",
        "    confusion_matrix = pd.crosstab(x, y)\n",
        "    chi2, _, _, _ = chi2_contingency(confusion_matrix)\n",
        "    n = confusion_matrix.sum().sum()\n",
        "    phi2 = chi2 / n\n",
        "    r, k = confusion_matrix.shape\n",
        "    phi2corr = max(0, phi2 - ((k - 1) * (r - 1)) / (n - 1))\n",
        "    rcorr = r - ((r - 1) ** 2) / (n - 1)\n",
        "    kcorr = k - ((k - 1) ** 2) / (n - 1)\n",
        "    return np.sqrt(phi2corr / min((kcorr - 1), (rcorr - 1)))"
      ]
    },
    {
      "cell_type": "code",
      "execution_count": null,
      "metadata": {
        "id": "feyxbINzmV1w"
      },
      "outputs": [],
      "source": [
        "from sklearn.preprocessing import MultiLabelBinarizer\n",
        "from sklearn.model_selection import train_test_split\n",
        "from sklearn.preprocessing import OneHotEncoder\n",
        "from sklearn.tree import DecisionTreeClassifier\n",
        "from scipy.stats import chi2_contingency\n",
        "from IPython.display import clear_output\n",
        "from matplotlib import pyplot as plt\n",
        "from matplotlib import pyplot as plt\n",
        "from sklearn.metrics import f1_score\n",
        "from urllib.parse import urlparse\n",
        "from google.colab import drive\n",
        "from zipfile import ZipFile\n",
        "import xgboost as xgb\n",
        "import pandas as pd\n",
        "import numpy as np\n",
        "import time\n",
        "import math\n",
        "import re"
      ]
    },
    {
      "cell_type": "code",
      "execution_count": null,
      "metadata": {
        "id": "Ok07NGGYo2kg"
      },
      "outputs": [],
      "source": [
        "class progressbar:\n",
        "    def __init__(self,timegap,length=40,char1='-',char2='>'):\n",
        "        self.start_time = time.time()\n",
        "        self.timegap=timegap\n",
        "        self.time_ellapsed=0\n",
        "        self.length = length\n",
        "        self.char1 = char1\n",
        "        self.char2 = char2\n",
        "        self.data=[]\n",
        "        self.extraword=''\n",
        "        self.past = 0\n",
        "        self.tim1 = 0\n",
        "        self.past_error = 0\n",
        "    def print(self,current,max,string='',clear=True,graph=False,error=0,graph_length=10,smoothing=0.2):\n",
        "        assert smoothing<1\n",
        "        progress=round(self.length*current/max)\n",
        "        if progress == 0:\n",
        "            self.past_error = error\n",
        "        if time.time()-self.start_time>self.timegap:\n",
        "            self.start_time = time.time()\n",
        "            self.time_ellapsed+=self.timegap\n",
        "            self.extraword+='\\n Time taken ='+str(self.time_ellapsed)+'sec'\n",
        "            if clear:\n",
        "                clear_output(wait=True)\n",
        "                if progress!=self.past:\n",
        "                    self.tim1 = round((self.length-progress)/(progress-self.past+0.1)*self.timegap,2)\n",
        "                print('['+self.char1*int(progress)+self.char2+' '*(self.length-progress)+']',\n",
        "                        '\\n',\n",
        "                        string,\n",
        "                        f\"\\ntime {self.tim1}s\",\n",
        "                        f\"\\ntime_spent {self.time_ellapsed}s\",\n",
        "                        flush=True)\n",
        "                self.past = progress\n",
        "            if graph:\n",
        "                if len(self.data)>graph_length:\n",
        "                    self.data.pop(0)\n",
        "                    # print(self.data,graph_length,len(self.data))\n",
        "                error = smoothing*error+(1-smoothing)*self.past_error\n",
        "                self.past_error = error\n",
        "                self.data.append([self.time_ellapsed,error])\n",
        "                plt.plot([x[0] for x in self.data],[x[1] for x in self.data])\n",
        "                plt.show()"
      ]
    },
    {
      "cell_type": "code",
      "execution_count": null,
      "metadata": {
        "colab": {
          "base_uri": "https://localhost:8080/"
        },
        "id": "eYgYLLBmRAnB",
        "outputId": "3586dce4-4aa3-4849-ed77-b6f884afa803"
      },
      "outputs": [
        {
          "output_type": "stream",
          "name": "stdout",
          "text": [
            "Mounted at /content/drive\n"
          ]
        }
      ],
      "source": [
        "drive.mount('/content/drive')"
      ]
    },
    {
      "cell_type": "code",
      "execution_count": null,
      "metadata": {
        "id": "LPSZfZdy8_kZ"
      },
      "outputs": [],
      "source": [
        "# with ZipFile('/content/drive/MyDrive/Hackathon Testbiz/Correct-Complete-DataSet.zip','r') as f:\n",
        "#     f.extractall()"
      ]
    },
    {
      "cell_type": "code",
      "execution_count": null,
      "metadata": {
        "id": "7KI6GfK79hgX"
      },
      "outputs": [],
      "source": [
        "df = pd.read_csv(\"/content/drive/MyDrive/Hackathon Testbiz/Doceree-HCP_Train.csv\",encoding='ISO-8859-1')"
      ]
    },
    {
      "cell_type": "code",
      "execution_count": null,
      "metadata": {
        "colab": {
          "base_uri": "https://localhost:8080/"
        },
        "id": "WplMn62g-IMs",
        "outputId": "84740af6-b55e-4c01-9c8f-34edf4d56492"
      },
      "outputs": [
        {
          "output_type": "execute_result",
          "data": {
            "text/plain": [
              "ID                     0\n",
              "DEVICETYPE             0\n",
              "PLATFORM_ID            0\n",
              "BIDREQUESTIP           0\n",
              "USERPLATFORMUID        4\n",
              "USERCITY            6359\n",
              "USERZIPCODE         4592\n",
              "USERAGENT              2\n",
              "PLATFORMTYPE           0\n",
              "CHANNELTYPE            0\n",
              "URL                    0\n",
              "KEYWORDS               0\n",
              "TAXONOMY           81624\n",
              "IS_HCP                 1\n",
              "dtype: int64"
            ]
          },
          "metadata": {},
          "execution_count": 185
        }
      ],
      "source": [
        "df.isna().sum()"
      ]
    },
    {
      "cell_type": "code",
      "execution_count": null,
      "metadata": {
        "id": "egREcpFb9ugS"
      },
      "outputs": [],
      "source": [
        "df = df.drop(['ID','CHANNELTYPE'],axis = 1)"
      ]
    },
    {
      "cell_type": "code",
      "execution_count": null,
      "metadata": {
        "colab": {
          "base_uri": "https://localhost:8080/",
          "height": 315
        },
        "id": "G--4BgLoSC-n",
        "outputId": "dd95e477-3f31-43da-e380-03e0ca66fee1"
      },
      "outputs": [
        {
          "output_type": "execute_result",
          "data": {
            "text/plain": [
              "  DEVICETYPE  PLATFORM_ID   BIDREQUESTIP  \\\n",
              "0    Desktop            2   170.173.0.22   \n",
              "1    Desktop            2  65.216.253.25   \n",
              "\n",
              "                        USERPLATFORMUID   USERCITY  USERZIPCODE  \\\n",
              "0  6974dcaa-f932-480e-9fb5-c52e20e1393a   Portland      97206.0   \n",
              "1  c12f3f8f-8fcf-484a-90e1-1ac04db8cdcf  Arlington      22202.0   \n",
              "\n",
              "                                           USERAGENT            PLATFORMTYPE  \\\n",
              "0  Mozilla/5.0 (Windows NT 10.0; Win64; x64) Appl...  Online Medical Journal   \n",
              "1  Mozilla/5.0 (Macintosh; Intel Mac OS X 10_15_7...  Online Medical Journal   \n",
              "\n",
              "                                                 URL  \\\n",
              "0  https://www.cancertherapyadvisor.com/home/canc...   \n",
              "1  https://www.cancertherapyadvisor.com/home/deci...   \n",
              "\n",
              "                                            KEYWORDS TAXONOMY  IS_HCP  \n",
              "0  General|Endocrine|False|Medicine|Surgery|Urolo...      NaN     0.0  \n",
              "1  Bone Marrow|Radiography|Chronic|Oncology|Psych...      NaN     0.0  "
            ],
            "text/html": [
              "\n",
              "  <div id=\"df-28c4c563-1e5d-41b5-bbe8-3fb72e0c2714\">\n",
              "    <div class=\"colab-df-container\">\n",
              "      <div>\n",
              "<style scoped>\n",
              "    .dataframe tbody tr th:only-of-type {\n",
              "        vertical-align: middle;\n",
              "    }\n",
              "\n",
              "    .dataframe tbody tr th {\n",
              "        vertical-align: top;\n",
              "    }\n",
              "\n",
              "    .dataframe thead th {\n",
              "        text-align: right;\n",
              "    }\n",
              "</style>\n",
              "<table border=\"1\" class=\"dataframe\">\n",
              "  <thead>\n",
              "    <tr style=\"text-align: right;\">\n",
              "      <th></th>\n",
              "      <th>DEVICETYPE</th>\n",
              "      <th>PLATFORM_ID</th>\n",
              "      <th>BIDREQUESTIP</th>\n",
              "      <th>USERPLATFORMUID</th>\n",
              "      <th>USERCITY</th>\n",
              "      <th>USERZIPCODE</th>\n",
              "      <th>USERAGENT</th>\n",
              "      <th>PLATFORMTYPE</th>\n",
              "      <th>URL</th>\n",
              "      <th>KEYWORDS</th>\n",
              "      <th>TAXONOMY</th>\n",
              "      <th>IS_HCP</th>\n",
              "    </tr>\n",
              "  </thead>\n",
              "  <tbody>\n",
              "    <tr>\n",
              "      <th>0</th>\n",
              "      <td>Desktop</td>\n",
              "      <td>2</td>\n",
              "      <td>170.173.0.22</td>\n",
              "      <td>6974dcaa-f932-480e-9fb5-c52e20e1393a</td>\n",
              "      <td>Portland</td>\n",
              "      <td>97206.0</td>\n",
              "      <td>Mozilla/5.0 (Windows NT 10.0; Win64; x64) Appl...</td>\n",
              "      <td>Online Medical Journal</td>\n",
              "      <td>https://www.cancertherapyadvisor.com/home/canc...</td>\n",
              "      <td>General|Endocrine|False|Medicine|Surgery|Urolo...</td>\n",
              "      <td>NaN</td>\n",
              "      <td>0.0</td>\n",
              "    </tr>\n",
              "    <tr>\n",
              "      <th>1</th>\n",
              "      <td>Desktop</td>\n",
              "      <td>2</td>\n",
              "      <td>65.216.253.25</td>\n",
              "      <td>c12f3f8f-8fcf-484a-90e1-1ac04db8cdcf</td>\n",
              "      <td>Arlington</td>\n",
              "      <td>22202.0</td>\n",
              "      <td>Mozilla/5.0 (Macintosh; Intel Mac OS X 10_15_7...</td>\n",
              "      <td>Online Medical Journal</td>\n",
              "      <td>https://www.cancertherapyadvisor.com/home/deci...</td>\n",
              "      <td>Bone Marrow|Radiography|Chronic|Oncology|Psych...</td>\n",
              "      <td>NaN</td>\n",
              "      <td>0.0</td>\n",
              "    </tr>\n",
              "  </tbody>\n",
              "</table>\n",
              "</div>\n",
              "      <button class=\"colab-df-convert\" onclick=\"convertToInteractive('df-28c4c563-1e5d-41b5-bbe8-3fb72e0c2714')\"\n",
              "              title=\"Convert this dataframe to an interactive table.\"\n",
              "              style=\"display:none;\">\n",
              "        \n",
              "  <svg xmlns=\"http://www.w3.org/2000/svg\" height=\"24px\"viewBox=\"0 0 24 24\"\n",
              "       width=\"24px\">\n",
              "    <path d=\"M0 0h24v24H0V0z\" fill=\"none\"/>\n",
              "    <path d=\"M18.56 5.44l.94 2.06.94-2.06 2.06-.94-2.06-.94-.94-2.06-.94 2.06-2.06.94zm-11 1L8.5 8.5l.94-2.06 2.06-.94-2.06-.94L8.5 2.5l-.94 2.06-2.06.94zm10 10l.94 2.06.94-2.06 2.06-.94-2.06-.94-.94-2.06-.94 2.06-2.06.94z\"/><path d=\"M17.41 7.96l-1.37-1.37c-.4-.4-.92-.59-1.43-.59-.52 0-1.04.2-1.43.59L10.3 9.45l-7.72 7.72c-.78.78-.78 2.05 0 2.83L4 21.41c.39.39.9.59 1.41.59.51 0 1.02-.2 1.41-.59l7.78-7.78 2.81-2.81c.8-.78.8-2.07 0-2.86zM5.41 20L4 18.59l7.72-7.72 1.47 1.35L5.41 20z\"/>\n",
              "  </svg>\n",
              "      </button>\n",
              "      \n",
              "  <style>\n",
              "    .colab-df-container {\n",
              "      display:flex;\n",
              "      flex-wrap:wrap;\n",
              "      gap: 12px;\n",
              "    }\n",
              "\n",
              "    .colab-df-convert {\n",
              "      background-color: #E8F0FE;\n",
              "      border: none;\n",
              "      border-radius: 50%;\n",
              "      cursor: pointer;\n",
              "      display: none;\n",
              "      fill: #1967D2;\n",
              "      height: 32px;\n",
              "      padding: 0 0 0 0;\n",
              "      width: 32px;\n",
              "    }\n",
              "\n",
              "    .colab-df-convert:hover {\n",
              "      background-color: #E2EBFA;\n",
              "      box-shadow: 0px 1px 2px rgba(60, 64, 67, 0.3), 0px 1px 3px 1px rgba(60, 64, 67, 0.15);\n",
              "      fill: #174EA6;\n",
              "    }\n",
              "\n",
              "    [theme=dark] .colab-df-convert {\n",
              "      background-color: #3B4455;\n",
              "      fill: #D2E3FC;\n",
              "    }\n",
              "\n",
              "    [theme=dark] .colab-df-convert:hover {\n",
              "      background-color: #434B5C;\n",
              "      box-shadow: 0px 1px 3px 1px rgba(0, 0, 0, 0.15);\n",
              "      filter: drop-shadow(0px 1px 2px rgba(0, 0, 0, 0.3));\n",
              "      fill: #FFFFFF;\n",
              "    }\n",
              "  </style>\n",
              "\n",
              "      <script>\n",
              "        const buttonEl =\n",
              "          document.querySelector('#df-28c4c563-1e5d-41b5-bbe8-3fb72e0c2714 button.colab-df-convert');\n",
              "        buttonEl.style.display =\n",
              "          google.colab.kernel.accessAllowed ? 'block' : 'none';\n",
              "\n",
              "        async function convertToInteractive(key) {\n",
              "          const element = document.querySelector('#df-28c4c563-1e5d-41b5-bbe8-3fb72e0c2714');\n",
              "          const dataTable =\n",
              "            await google.colab.kernel.invokeFunction('convertToInteractive',\n",
              "                                                     [key], {});\n",
              "          if (!dataTable) return;\n",
              "\n",
              "          const docLinkHtml = 'Like what you see? Visit the ' +\n",
              "            '<a target=\"_blank\" href=https://colab.research.google.com/notebooks/data_table.ipynb>data table notebook</a>'\n",
              "            + ' to learn more about interactive tables.';\n",
              "          element.innerHTML = '';\n",
              "          dataTable['output_type'] = 'display_data';\n",
              "          await google.colab.output.renderOutput(dataTable, element);\n",
              "          const docLink = document.createElement('div');\n",
              "          docLink.innerHTML = docLinkHtml;\n",
              "          element.appendChild(docLink);\n",
              "        }\n",
              "      </script>\n",
              "    </div>\n",
              "  </div>\n",
              "  "
            ]
          },
          "metadata": {},
          "execution_count": 187
        }
      ],
      "source": [
        "df.head(2)"
      ]
    },
    {
      "cell_type": "code",
      "source": [
        "df = df[df.IS_HCP.isna()==0].reset_index().drop('index',axis=1)"
      ],
      "metadata": {
        "id": "vb0jbJrp3bI5"
      },
      "execution_count": null,
      "outputs": []
    },
    {
      "cell_type": "code",
      "source": [
        "train_df,test_df,train_y,test_y = train_test_split(df.drop('IS_HCP',axis=1),df.IS_HCP,test_size=0.2,random_state=42)"
      ],
      "metadata": {
        "id": "4LX64_hA38Ga"
      },
      "execution_count": null,
      "outputs": []
    },
    {
      "cell_type": "code",
      "source": [
        "url_counts = train_df.URL.value_counts()\n",
        "key_counts = train_df.KEYWORDS.value_counts()\n",
        "bdr_counts = train_df.BIDREQUESTIP.value_counts()"
      ],
      "metadata": {
        "id": "trXkuqq_4cLk"
      },
      "execution_count": null,
      "outputs": []
    },
    {
      "cell_type": "code",
      "source": [
        "!wget https://huggingface.co/stanfordnlp/glove/resolve/main/glove.6B.zip"
      ],
      "metadata": {
        "colab": {
          "base_uri": "https://localhost:8080/"
        },
        "id": "RZ36XbMrr-DM",
        "outputId": "2c32338f-d231-4ba7-8fd7-2164b2b3e316"
      },
      "execution_count": null,
      "outputs": [
        {
          "output_type": "stream",
          "name": "stdout",
          "text": [
            "--2023-07-02 07:44:17--  https://huggingface.co/stanfordnlp/glove/resolve/main/glove.6B.zip\n",
            "Resolving huggingface.co (huggingface.co)... 13.35.166.50, 13.35.166.114, 13.35.166.69, ...\n",
            "Connecting to huggingface.co (huggingface.co)|13.35.166.50|:443... connected.\n",
            "HTTP request sent, awaiting response... 302 Found\n",
            "Location: https://cdn-lfs.huggingface.co/stanfordnlp/glove/6471382cdd837544bf3ac72497a38715e845897d265b2b424b4761832009c837?response-content-disposition=attachment%3B+filename*%3DUTF-8%27%27glove.6B.zip%3B+filename%3D%22glove.6B.zip%22%3B&response-content-type=application%2Fzip&Expires=1688540356&Policy=eyJTdGF0ZW1lbnQiOlt7IlJlc291cmNlIjoiaHR0cHM6Ly9jZG4tbGZzLmh1Z2dpbmdmYWNlLmNvL3N0YW5mb3JkbmxwL2dsb3ZlLzY0NzEzODJjZGQ4Mzc1NDRiZjNhYzcyNDk3YTM4NzE1ZTg0NTg5N2QyNjViMmI0MjRiNDc2MTgzMjAwOWM4Mzc%7EcmVzcG9uc2UtY29udGVudC1kaXNwb3NpdGlvbj0qJnJlc3BvbnNlLWNvbnRlbnQtdHlwZT0qIiwiQ29uZGl0aW9uIjp7IkRhdGVMZXNzVGhhbiI6eyJBV1M6RXBvY2hUaW1lIjoxNjg4NTQwMzU2fX19XX0_&Signature=i0Yb0Z%7EVOm3j-2wkgDErpVjlEe74jk0KA9ZxGUPSD4kIZMTSkD-GnmXZCiLMEiroBRSqmVhkU2Drs%7Epm6X-x17P-uDFrR7FPcDdYrVnH-x1w7fCZ5PF0Ypr1FERIbDgC4U0JRvOxvkqzI0iwdid6u9-ZCkExjQzaGOOJktQbgJTofdNaoVAx6sumdxrZFbA1SBJdR5vcf4o0d0zThbEvJPqkd45lk7TvmYqHorC8GkhGHsTAPMtgVaVfU6r2iCt2UPb6JpkUGI7Xd7somXju10s714GNubRza976Zf4iJw8FeGqSRB0Htba3hx%7EB-mxy9qu4ZsJzD1gXYKiE-bQ1Ew__&Key-Pair-Id=KVTP0A1DKRTAX [following]\n",
            "--2023-07-02 07:44:17--  https://cdn-lfs.huggingface.co/stanfordnlp/glove/6471382cdd837544bf3ac72497a38715e845897d265b2b424b4761832009c837?response-content-disposition=attachment%3B+filename*%3DUTF-8%27%27glove.6B.zip%3B+filename%3D%22glove.6B.zip%22%3B&response-content-type=application%2Fzip&Expires=1688540356&Policy=eyJTdGF0ZW1lbnQiOlt7IlJlc291cmNlIjoiaHR0cHM6Ly9jZG4tbGZzLmh1Z2dpbmdmYWNlLmNvL3N0YW5mb3JkbmxwL2dsb3ZlLzY0NzEzODJjZGQ4Mzc1NDRiZjNhYzcyNDk3YTM4NzE1ZTg0NTg5N2QyNjViMmI0MjRiNDc2MTgzMjAwOWM4Mzc%7EcmVzcG9uc2UtY29udGVudC1kaXNwb3NpdGlvbj0qJnJlc3BvbnNlLWNvbnRlbnQtdHlwZT0qIiwiQ29uZGl0aW9uIjp7IkRhdGVMZXNzVGhhbiI6eyJBV1M6RXBvY2hUaW1lIjoxNjg4NTQwMzU2fX19XX0_&Signature=i0Yb0Z%7EVOm3j-2wkgDErpVjlEe74jk0KA9ZxGUPSD4kIZMTSkD-GnmXZCiLMEiroBRSqmVhkU2Drs%7Epm6X-x17P-uDFrR7FPcDdYrVnH-x1w7fCZ5PF0Ypr1FERIbDgC4U0JRvOxvkqzI0iwdid6u9-ZCkExjQzaGOOJktQbgJTofdNaoVAx6sumdxrZFbA1SBJdR5vcf4o0d0zThbEvJPqkd45lk7TvmYqHorC8GkhGHsTAPMtgVaVfU6r2iCt2UPb6JpkUGI7Xd7somXju10s714GNubRza976Zf4iJw8FeGqSRB0Htba3hx%7EB-mxy9qu4ZsJzD1gXYKiE-bQ1Ew__&Key-Pair-Id=KVTP0A1DKRTAX\n",
            "Resolving cdn-lfs.huggingface.co (cdn-lfs.huggingface.co)... 13.35.7.99, 13.35.7.113, 13.35.7.14, ...\n",
            "Connecting to cdn-lfs.huggingface.co (cdn-lfs.huggingface.co)|13.35.7.99|:443... connected.\n",
            "HTTP request sent, awaiting response... 200 OK\n",
            "Length: 862182753 (822M) [application/zip]\n",
            "Saving to: ‘glove.6B.zip’\n",
            "\n",
            "glove.6B.zip        100%[===================>] 822.24M  19.7MB/s    in 44s     \n",
            "\n",
            "2023-07-02 07:45:03 (18.6 MB/s) - ‘glove.6B.zip’ saved [862182753/862182753]\n",
            "\n"
          ]
        }
      ]
    },
    {
      "cell_type": "code",
      "source": [
        "from zipfile import ZipFile\n",
        "with ZipFile('/content/glove.6B.zip','r') as f:\n",
        "    f.extractall()"
      ],
      "metadata": {
        "id": "ohaUyO-lsAj7"
      },
      "execution_count": null,
      "outputs": []
    },
    {
      "cell_type": "code",
      "source": [
        "with open('/content/glove.6B.300d.txt','r') as f:\n",
        "    word_to_vec = {}\n",
        "    for i in f.readlines():\n",
        "        i = i.strip('\\n').split()\n",
        "        word_to_vec[i[0]] = np.array(list(map(float,i[1:])))"
      ],
      "metadata": {
        "id": "A4bHlhGQsCn2"
      },
      "execution_count": null,
      "outputs": []
    },
    {
      "cell_type": "code",
      "source": [
        "l = set()\n",
        "def func(x):\n",
        "    x = set(x.lower().split('|'))\n",
        "    k = []\n",
        "    for i in x:\n",
        "        i = i.replace('-','')\n",
        "        if len(i.split())>1:\n",
        "            for i in i.split():\n",
        "                if i in word_to_vec:\n",
        "                    k.append(word_to_vec[i])\n",
        "                else:\n",
        "                    l.add(i)\n",
        "        if i in word_to_vec:\n",
        "            k.append(word_to_vec[i])\n",
        "        else:\n",
        "            l.add(i)\n",
        "    return pd.Series(sum(k)/len(k))\n",
        "keys = train_df.KEYWORDS.apply(func)"
      ],
      "metadata": {
        "id": "MEUva32lsRoF"
      },
      "execution_count": null,
      "outputs": []
    },
    {
      "cell_type": "code",
      "source": [
        "train_keys = keys\n",
        "test_keys = test_df.KEYWORDS.apply(func)"
      ],
      "metadata": {
        "id": "j1P2kfj6uDeX"
      },
      "execution_count": null,
      "outputs": []
    },
    {
      "cell_type": "code",
      "source": [
        "clf = DecisionTreeClassifier(random_state=0)\n",
        "clf.fit(train_keys,train_y)\n",
        "y_pred = clf.predict(test_keys)\n",
        "print(f1_score(test_y,y_pred,average = 'macro'),f1_score(train_y,clf.predict(train_keys),average = 'macro'))"
      ],
      "metadata": {
        "colab": {
          "base_uri": "https://localhost:8080/"
        },
        "id": "rQUEPxUqufYx",
        "outputId": "cad3804d-eafe-4138-f733-d5854032eee6"
      },
      "execution_count": null,
      "outputs": [
        {
          "output_type": "stream",
          "name": "stdout",
          "text": [
            "0.9883267951298134 0.9899830689432558\n"
          ]
        }
      ]
    },
    {
      "cell_type": "code",
      "source": [
        "clf = DecisionTreeClassifier(random_state=0)\n",
        "clf.fit(train_keys,train_y)\n",
        "y_pred = clf.predict(test_keys)\n",
        "print(f1_score(test_y,y_pred,average = 'macro'),f1_score(train_y,clf.predict(train_keys),average = 'macro'))"
      ],
      "metadata": {
        "colab": {
          "base_uri": "https://localhost:8080/"
        },
        "id": "t41C198b1Mrm",
        "outputId": "360b037f-6747-482d-b8d6-a554f43e08bf"
      },
      "execution_count": null,
      "outputs": [
        {
          "output_type": "stream",
          "name": "stdout",
          "text": [
            "0.9883267951298134 0.9899830689432558\n"
          ]
        }
      ]
    },
    {
      "cell_type": "code",
      "source": [
        "import category_encoders as ce\n",
        "encoder1 = ce.TargetEncoder(cols=['BIDREQUESTIP'],min_samples_leaf=20,smoothing=1)\n",
        "encoder2 = ce.TargetEncoder(cols=['USERPLATFORMUID'],min_samples_leaf=20,smoothing=1)\n",
        "encoder3 = ce.TargetEncoder(cols=['USERAGENT'],min_samples_leaf=20,smoothing=1)\n",
        "encoder4 = ce.TargetEncoder(cols=['USERZIPCODE'],min_samples_leaf=30,smoothing=1)\n",
        "encoder5 = ce.TargetEncoder(cols=['URL'],min_samples_leaf=20,smoothing=1.1)  #good val 1.09\n",
        "encoder6 = ce.TargetEncoder(cols=['USERCITY'],min_samples_leaf=24,smoothing=1.35)\n",
        "# encoder7 = ce.TargetEncoder(cols=['PLATFORMTYPE'],min_samples_leaf=20,smoothing=1.35)\n",
        "# PLATFORMTYPE\n",
        "x_tr_encoded = encoder1.fit_transform(train_df, train_y)\n",
        "x_te_encoded = encoder1.transform(test_df)\n",
        "\n",
        "x_tr_encoded = encoder2.fit_transform(x_tr_encoded, train_y)\n",
        "x_te_encoded = encoder2.transform(x_te_encoded)\n",
        "\n",
        "x_tr_encoded = encoder3.fit_transform(x_tr_encoded, train_y)\n",
        "x_te_encoded = encoder3.transform(x_te_encoded)\n",
        "\n",
        "x_tr_encoded = encoder4.fit_transform(x_tr_encoded, train_y)\n",
        "x_te_encoded = encoder4.transform(x_te_encoded)\n",
        "\n",
        "x_tr_encoded = encoder5.fit_transform(x_tr_encoded, train_y)\n",
        "x_te_encoded = encoder5.transform(x_te_encoded)\n",
        "\n",
        "x_tr_encoded = encoder6.fit_transform(x_tr_encoded, train_y)\n",
        "x_te_encoded = encoder6.transform(x_te_encoded)\n",
        "\n",
        "# x_tr_encoded = encoder7.fit_transform(x_tr_encoded, train_y)\n",
        "# x_te_encoded = encoder7.transform(x_te_encoded)"
      ],
      "metadata": {
        "id": "MIRfHZP4F1rp"
      },
      "execution_count": null,
      "outputs": []
    },
    {
      "cell_type": "code",
      "source": [
        "dim = 200\n",
        "train_keys.columns = [f'{x}_' for x in range(dim)]\n",
        "test_keys.columns = [f'{x}_' for x in range(dim)]"
      ],
      "metadata": {
        "id": "js8HQ2KEAzjZ"
      },
      "execution_count": null,
      "outputs": []
    },
    {
      "cell_type": "code",
      "source": [
        "train_data = pd.concat([x_tr_encoded[['BIDREQUESTIP','USERCITY','USERPLATFORMUID','USERAGENT','USERZIPCODE','URL']],\n",
        "                        train_keys],axis=1)\n",
        "test_data = pd.concat([x_te_encoded[['BIDREQUESTIP','USERCITY','USERPLATFORMUID','USERAGENT','USERZIPCODE','URL']],\n",
        "                        test_keys],axis=1)"
      ],
      "metadata": {
        "id": "sDE7iGxUViRg"
      },
      "execution_count": null,
      "outputs": []
    },
    {
      "cell_type": "code",
      "source": [
        "clf = DecisionTreeClassifier(random_state=0)\n",
        "clf.fit(train_data,train_y)\n",
        "y_pred = clf.predict(test_data)\n",
        "test_score = f1_score(test_y,y_pred,average = 'macro')\n",
        "train_score = f1_score(train_y,clf.predict(train_data),average = 'macro')\n",
        "test_score,train_score"
      ],
      "metadata": {
        "colab": {
          "base_uri": "https://localhost:8080/"
        },
        "id": "lUr-YUbqImnj",
        "outputId": "47374aa5-665e-4fd6-e454-8baa73b5d63a"
      },
      "execution_count": null,
      "outputs": [
        {
          "output_type": "execute_result",
          "data": {
            "text/plain": [
              "(0.9963575212167836, 1.0)"
            ]
          },
          "metadata": {},
          "execution_count": 657
        }
      ]
    },
    {
      "cell_type": "code",
      "source": [
        "from sklearn.ensemble import ExtraTreesClassifier\n",
        "from sklearn.datasets import make_classification\n",
        "from sklearn.model_selection import train_test_split\n",
        "\n",
        "clf = ExtraTreesClassifier(n_estimators=160, n_jobs=-1,random_state=0)\n",
        "\n",
        "clf.fit(train_data, train_y)\n",
        "\n",
        "y_pred = clf.predict(test_data)\n",
        "f1_score(test_y,y_pred,average = 'macro'),f1_score(train_y,clf.predict(train_data),average = 'macro')"
      ],
      "metadata": {
        "colab": {
          "base_uri": "https://localhost:8080/"
        },
        "id": "AaTI5YtBXzaN",
        "outputId": "72164b31-b3a9-4f94-e079-9cf69cb46b48"
      },
      "execution_count": null,
      "outputs": [
        {
          "output_type": "execute_result",
          "data": {
            "text/plain": [
              "(0.9985428884261818, 1.0)"
            ]
          },
          "metadata": {},
          "execution_count": 658
        }
      ]
    },
    {
      "cell_type": "code",
      "source": [
        "f1_score(test_y,y_pred,average = 'macro'),f1_score(train_y,clf.predict(train_data),average = 'macro')"
      ],
      "metadata": {
        "colab": {
          "base_uri": "https://localhost:8080/"
        },
        "id": "9-iz29Vmp6U3",
        "outputId": "086894bf-1b56-4b5c-8363-d95f7bedf405"
      },
      "execution_count": null,
      "outputs": [
        {
          "output_type": "execute_result",
          "data": {
            "text/plain": [
              "(0.9982307960195806, 1.0)"
            ]
          },
          "metadata": {},
          "execution_count": 539
        }
      ]
    },
    {
      "cell_type": "code",
      "source": [
        "import time\n",
        "bt =time.time()\n",
        "from sklearn.ensemble import RandomForestClassifier\n",
        "RFC = RandomForestClassifier(random_state=0,n_estimators=160)\n",
        "RFC.fit(train_data, train_y)\n",
        "y_pred = RFC.predict(test_data)\n",
        "f1_score(test_y,y_pred,average = 'macro'),f1_score(train_y,RFC.predict(train_data),average = 'macro'),time.time()-bt"
      ],
      "metadata": {
        "colab": {
          "base_uri": "https://localhost:8080/"
        },
        "id": "ODY0w51IJL7a",
        "outputId": "f0ea8a40-b5b2-451b-98a2-92b66fdcb15d"
      },
      "execution_count": null,
      "outputs": [
        {
          "output_type": "execute_result",
          "data": {
            "text/plain": [
              "(0.9980747690887307, 1.0)"
            ]
          },
          "metadata": {},
          "execution_count": 533
        }
      ]
    },
    {
      "cell_type": "code",
      "source": [
        "pd.Series(RFC.feature_importances_,index = train_data.columns)[:10]"
      ],
      "metadata": {
        "colab": {
          "base_uri": "https://localhost:8080/"
        },
        "id": "i7h8vDbeUloq",
        "outputId": "2e3ec8eb-c621-45d8-dbca-9374af195362"
      },
      "execution_count": null,
      "outputs": [
        {
          "output_type": "execute_result",
          "data": {
            "text/plain": [
              "BIDREQUESTIP       0.045040\n",
              "USERCITY           0.011290\n",
              "USERPLATFORMUID    0.046247\n",
              "USERAGENT          0.100293\n",
              "USERZIPCODE        0.030142\n",
              "URL                0.289503\n",
              "0_                 0.001362\n",
              "1_                 0.001460\n",
              "2_                 0.001912\n",
              "3_                 0.008588\n",
              "dtype: float64"
            ]
          },
          "metadata": {},
          "execution_count": 509
        }
      ]
    },
    {
      "cell_type": "code",
      "source": [
        "pd.Series(clf.feature_importances_,index = train_data.columns)[:10]"
      ],
      "metadata": {
        "colab": {
          "base_uri": "https://localhost:8080/"
        },
        "id": "3YOKSV_eWNC_",
        "outputId": "f3b9e6ce-f7c0-4699-dd1c-bd31a90fe0e0"
      },
      "execution_count": null,
      "outputs": [
        {
          "output_type": "execute_result",
          "data": {
            "text/plain": [
              "BIDREQUESTIP       0.025542\n",
              "USERCITY           0.009104\n",
              "USERPLATFORMUID    0.023108\n",
              "USERAGENT          0.140809\n",
              "USERZIPCODE        0.022761\n",
              "URL                0.276180\n",
              "0_                 0.002437\n",
              "1_                 0.002113\n",
              "2_                 0.001968\n",
              "3_                 0.003877\n",
              "dtype: float64"
            ]
          },
          "metadata": {},
          "execution_count": 562
        }
      ]
    },
    {
      "cell_type": "code",
      "source": [
        "from sklearn.ensemble import RandomForestClassifier\n",
        "RFC = RandomForestClassifier(random_state=0,n_estimators=165)\n",
        "RFC.fit(train_data, train_y)\n",
        "y_pred = RFC.predict(test_data)\n",
        "f1_score(test_y,y_pred,average = 'macro'),f1_score(train_y,RFC.predict(train_data),average = 'macro')"
      ],
      "metadata": {
        "colab": {
          "base_uri": "https://localhost:8080/"
        },
        "id": "GDF5bjCnKaqx",
        "outputId": "9e5e1f27-0e61-4440-e305-cca44a02025e"
      },
      "execution_count": null,
      "outputs": [
        {
          "output_type": "execute_result",
          "data": {
            "text/plain": [
              "(0.9982827606876497, 0.9999346326510605)"
            ]
          },
          "metadata": {},
          "execution_count": 180
        }
      ]
    },
    {
      "cell_type": "code",
      "source": [],
      "metadata": {
        "id": "yf_VXFfkUlDx"
      },
      "execution_count": null,
      "outputs": []
    },
    {
      "cell_type": "code",
      "source": [
        "from sklearn.ensemble import RandomForestClassifier\n",
        "RFC = RandomForestClassifier(random_state=0,n_estimators=100)\n",
        "RFC.fit(train_data, train_y)\n",
        "y_pred = RFC.predict(test_data)\n",
        "f1_score(test_y,y_pred,average = 'macro'),f1_score(train_y,RFC.predict(train_data),average = 'macro')"
      ],
      "metadata": {
        "colab": {
          "base_uri": "https://localhost:8080/"
        },
        "id": "Jw7ydzmrKw3e",
        "outputId": "e09e1bb3-e579-48e7-d76f-4ab050e44c1e"
      },
      "execution_count": null,
      "outputs": [
        {
          "output_type": "execute_result",
          "data": {
            "text/plain": [
              "(0.9980747690887307, 0.9999477055725281)"
            ]
          },
          "metadata": {},
          "execution_count": 199
        }
      ]
    },
    {
      "cell_type": "code",
      "source": [
        "from sklearn.ensemble import RandomForestClassifier\n",
        "RFC = RandomForestClassifier(random_state=0,n_estimators=170)\n",
        "RFC.fit(train_data, train_y)\n",
        "y_pred = RFC.predict(test_data)\n",
        "f1_score(test_y,y_pred,average = 'macro'),f1_score(train_y,RFC.predict(train_data),average = 'macro')"
      ],
      "metadata": {
        "colab": {
          "base_uri": "https://localhost:8080/"
        },
        "id": "ELbF-iRpKy9J",
        "outputId": "f63466a7-5c05-4749-90a2-77c356fb09f3"
      },
      "execution_count": null,
      "outputs": [
        {
          "output_type": "execute_result",
          "data": {
            "text/plain": [
              "(0.9983869686959636, 0.9999346326510605)"
            ]
          },
          "metadata": {},
          "execution_count": 182
        }
      ]
    },
    {
      "cell_type": "code",
      "source": [
        "final_test_data = pd.read_csv('/content/drive/MyDrive/Hackathon Testbiz/Doceree-HCP_Test.csv')"
      ],
      "metadata": {
        "id": "X3LmpgagbWqw"
      },
      "execution_count": null,
      "outputs": []
    },
    {
      "cell_type": "code",
      "source": [
        "final_test_keys = final_test_data.KEYWORDS.apply(func)"
      ],
      "metadata": {
        "id": "7aXqZk74bXCw"
      },
      "execution_count": null,
      "outputs": []
    },
    {
      "cell_type": "code",
      "source": [
        "id = final_test_data.ID\n",
        "final_test_data = final_test_data.drop('ID',axis=1)\n",
        "x_te_encoded = encoder1.transform(final_test_data)\n",
        "x_te_encoded = encoder2.transform(x_te_encoded)\n",
        "x_te_encoded = encoder3.transform(x_te_encoded)\n",
        "x_te_encoded = encoder4.transform(x_te_encoded)\n",
        "x_te_encoded = encoder5.transform(x_te_encoded)\n",
        "x_te_encoded = encoder6.transform(x_te_encoded)\n",
        "final_test_keys.columns = [f'{x}_' for x in range(dim)]\n",
        "final_test_data  = pd.concat([x_te_encoded[['BIDREQUESTIP','USERCITY','USERPLATFORMUID','USERAGENT','USERZIPCODE','URL']],\n",
        "                        final_test_keys],axis=1)"
      ],
      "metadata": {
        "id": "eTGw8_rpbh_y"
      },
      "execution_count": null,
      "outputs": []
    },
    {
      "cell_type": "code",
      "source": [
        "final_train_keys = df.KEYWORDS.apply(func)"
      ],
      "metadata": {
        "id": "aQAweMHnfYwb"
      },
      "execution_count": null,
      "outputs": []
    },
    {
      "cell_type": "code",
      "source": [
        "x_te_encoded = encoder1.transform(df.drop('IS_HCP',axis=1))\n",
        "x_te_encoded = encoder2.transform(x_te_encoded)\n",
        "x_te_encoded = encoder3.transform(x_te_encoded)\n",
        "x_te_encoded = encoder4.transform(x_te_encoded)\n",
        "x_te_encoded = encoder5.transform(x_te_encoded)\n",
        "x_te_encoded = encoder6.transform(x_te_encoded)\n",
        "final_train_keys.columns = [f'{x}_' for x in range(dim)]\n",
        "training  = pd.concat([x_te_encoded[['BIDREQUESTIP','USERCITY','USERPLATFORMUID','USERAGENT','USERZIPCODE','URL']],\n",
        "                        final_train_keys],axis=1)"
      ],
      "metadata": {
        "id": "rYiQJmiQfFbv"
      },
      "execution_count": null,
      "outputs": []
    },
    {
      "cell_type": "code",
      "source": [
        "training.head(2)"
      ],
      "metadata": {
        "colab": {
          "base_uri": "https://localhost:8080/",
          "height": 205
        },
        "id": "d_724oalf1Iq",
        "outputId": "29db31eb-052a-4f53-92de-8b921f987dcc"
      },
      "execution_count": null,
      "outputs": [
        {
          "output_type": "execute_result",
          "data": {
            "text/plain": [
              "   BIDREQUESTIP  USERCITY  USERPLATFORMUID  USERAGENT  USERZIPCODE      URL  \\\n",
              "0      0.219795  0.263014         0.299489   0.042780     0.227273  0.00156   \n",
              "1      0.000000  0.038811         0.299491   0.159299     0.002982  0.00000   \n",
              "\n",
              "         0_        1_        2_        3_  ...      190_      191_      192_  \\\n",
              "0 -0.377835  0.169633  0.531444 -0.087512  ...  0.327756  0.126030  0.372744   \n",
              "1 -0.291496  0.047117  0.354221  0.062432  ...  0.298001  0.175415  0.319247   \n",
              "\n",
              "       193_      194_      195_      196_      197_      198_      199_  \n",
              "0  0.142137 -0.301632  0.158243 -0.119097 -0.098144  0.016123 -0.124896  \n",
              "1  0.047611 -0.283282  0.003694 -0.010721  0.175156 -0.073016 -0.047308  \n",
              "\n",
              "[2 rows x 206 columns]"
            ],
            "text/html": [
              "\n",
              "  <div id=\"df-7c783efc-739e-43db-b3b8-4397500b9a35\">\n",
              "    <div class=\"colab-df-container\">\n",
              "      <div>\n",
              "<style scoped>\n",
              "    .dataframe tbody tr th:only-of-type {\n",
              "        vertical-align: middle;\n",
              "    }\n",
              "\n",
              "    .dataframe tbody tr th {\n",
              "        vertical-align: top;\n",
              "    }\n",
              "\n",
              "    .dataframe thead th {\n",
              "        text-align: right;\n",
              "    }\n",
              "</style>\n",
              "<table border=\"1\" class=\"dataframe\">\n",
              "  <thead>\n",
              "    <tr style=\"text-align: right;\">\n",
              "      <th></th>\n",
              "      <th>BIDREQUESTIP</th>\n",
              "      <th>USERCITY</th>\n",
              "      <th>USERPLATFORMUID</th>\n",
              "      <th>USERAGENT</th>\n",
              "      <th>USERZIPCODE</th>\n",
              "      <th>URL</th>\n",
              "      <th>0_</th>\n",
              "      <th>1_</th>\n",
              "      <th>2_</th>\n",
              "      <th>3_</th>\n",
              "      <th>...</th>\n",
              "      <th>190_</th>\n",
              "      <th>191_</th>\n",
              "      <th>192_</th>\n",
              "      <th>193_</th>\n",
              "      <th>194_</th>\n",
              "      <th>195_</th>\n",
              "      <th>196_</th>\n",
              "      <th>197_</th>\n",
              "      <th>198_</th>\n",
              "      <th>199_</th>\n",
              "    </tr>\n",
              "  </thead>\n",
              "  <tbody>\n",
              "    <tr>\n",
              "      <th>0</th>\n",
              "      <td>0.219795</td>\n",
              "      <td>0.263014</td>\n",
              "      <td>0.299489</td>\n",
              "      <td>0.042780</td>\n",
              "      <td>0.227273</td>\n",
              "      <td>0.00156</td>\n",
              "      <td>-0.377835</td>\n",
              "      <td>0.169633</td>\n",
              "      <td>0.531444</td>\n",
              "      <td>-0.087512</td>\n",
              "      <td>...</td>\n",
              "      <td>0.327756</td>\n",
              "      <td>0.126030</td>\n",
              "      <td>0.372744</td>\n",
              "      <td>0.142137</td>\n",
              "      <td>-0.301632</td>\n",
              "      <td>0.158243</td>\n",
              "      <td>-0.119097</td>\n",
              "      <td>-0.098144</td>\n",
              "      <td>0.016123</td>\n",
              "      <td>-0.124896</td>\n",
              "    </tr>\n",
              "    <tr>\n",
              "      <th>1</th>\n",
              "      <td>0.000000</td>\n",
              "      <td>0.038811</td>\n",
              "      <td>0.299491</td>\n",
              "      <td>0.159299</td>\n",
              "      <td>0.002982</td>\n",
              "      <td>0.00000</td>\n",
              "      <td>-0.291496</td>\n",
              "      <td>0.047117</td>\n",
              "      <td>0.354221</td>\n",
              "      <td>0.062432</td>\n",
              "      <td>...</td>\n",
              "      <td>0.298001</td>\n",
              "      <td>0.175415</td>\n",
              "      <td>0.319247</td>\n",
              "      <td>0.047611</td>\n",
              "      <td>-0.283282</td>\n",
              "      <td>0.003694</td>\n",
              "      <td>-0.010721</td>\n",
              "      <td>0.175156</td>\n",
              "      <td>-0.073016</td>\n",
              "      <td>-0.047308</td>\n",
              "    </tr>\n",
              "  </tbody>\n",
              "</table>\n",
              "<p>2 rows × 206 columns</p>\n",
              "</div>\n",
              "      <button class=\"colab-df-convert\" onclick=\"convertToInteractive('df-7c783efc-739e-43db-b3b8-4397500b9a35')\"\n",
              "              title=\"Convert this dataframe to an interactive table.\"\n",
              "              style=\"display:none;\">\n",
              "        \n",
              "  <svg xmlns=\"http://www.w3.org/2000/svg\" height=\"24px\"viewBox=\"0 0 24 24\"\n",
              "       width=\"24px\">\n",
              "    <path d=\"M0 0h24v24H0V0z\" fill=\"none\"/>\n",
              "    <path d=\"M18.56 5.44l.94 2.06.94-2.06 2.06-.94-2.06-.94-.94-2.06-.94 2.06-2.06.94zm-11 1L8.5 8.5l.94-2.06 2.06-.94-2.06-.94L8.5 2.5l-.94 2.06-2.06.94zm10 10l.94 2.06.94-2.06 2.06-.94-2.06-.94-.94-2.06-.94 2.06-2.06.94z\"/><path d=\"M17.41 7.96l-1.37-1.37c-.4-.4-.92-.59-1.43-.59-.52 0-1.04.2-1.43.59L10.3 9.45l-7.72 7.72c-.78.78-.78 2.05 0 2.83L4 21.41c.39.39.9.59 1.41.59.51 0 1.02-.2 1.41-.59l7.78-7.78 2.81-2.81c.8-.78.8-2.07 0-2.86zM5.41 20L4 18.59l7.72-7.72 1.47 1.35L5.41 20z\"/>\n",
              "  </svg>\n",
              "      </button>\n",
              "      \n",
              "  <style>\n",
              "    .colab-df-container {\n",
              "      display:flex;\n",
              "      flex-wrap:wrap;\n",
              "      gap: 12px;\n",
              "    }\n",
              "\n",
              "    .colab-df-convert {\n",
              "      background-color: #E8F0FE;\n",
              "      border: none;\n",
              "      border-radius: 50%;\n",
              "      cursor: pointer;\n",
              "      display: none;\n",
              "      fill: #1967D2;\n",
              "      height: 32px;\n",
              "      padding: 0 0 0 0;\n",
              "      width: 32px;\n",
              "    }\n",
              "\n",
              "    .colab-df-convert:hover {\n",
              "      background-color: #E2EBFA;\n",
              "      box-shadow: 0px 1px 2px rgba(60, 64, 67, 0.3), 0px 1px 3px 1px rgba(60, 64, 67, 0.15);\n",
              "      fill: #174EA6;\n",
              "    }\n",
              "\n",
              "    [theme=dark] .colab-df-convert {\n",
              "      background-color: #3B4455;\n",
              "      fill: #D2E3FC;\n",
              "    }\n",
              "\n",
              "    [theme=dark] .colab-df-convert:hover {\n",
              "      background-color: #434B5C;\n",
              "      box-shadow: 0px 1px 3px 1px rgba(0, 0, 0, 0.15);\n",
              "      filter: drop-shadow(0px 1px 2px rgba(0, 0, 0, 0.3));\n",
              "      fill: #FFFFFF;\n",
              "    }\n",
              "  </style>\n",
              "\n",
              "      <script>\n",
              "        const buttonEl =\n",
              "          document.querySelector('#df-7c783efc-739e-43db-b3b8-4397500b9a35 button.colab-df-convert');\n",
              "        buttonEl.style.display =\n",
              "          google.colab.kernel.accessAllowed ? 'block' : 'none';\n",
              "\n",
              "        async function convertToInteractive(key) {\n",
              "          const element = document.querySelector('#df-7c783efc-739e-43db-b3b8-4397500b9a35');\n",
              "          const dataTable =\n",
              "            await google.colab.kernel.invokeFunction('convertToInteractive',\n",
              "                                                     [key], {});\n",
              "          if (!dataTable) return;\n",
              "\n",
              "          const docLinkHtml = 'Like what you see? Visit the ' +\n",
              "            '<a target=\"_blank\" href=https://colab.research.google.com/notebooks/data_table.ipynb>data table notebook</a>'\n",
              "            + ' to learn more about interactive tables.';\n",
              "          element.innerHTML = '';\n",
              "          dataTable['output_type'] = 'display_data';\n",
              "          await google.colab.output.renderOutput(dataTable, element);\n",
              "          const docLink = document.createElement('div');\n",
              "          docLink.innerHTML = docLinkHtml;\n",
              "          element.appendChild(docLink);\n",
              "        }\n",
              "      </script>\n",
              "    </div>\n",
              "  </div>\n",
              "  "
            ]
          },
          "metadata": {},
          "execution_count": 582
        }
      ]
    },
    {
      "cell_type": "code",
      "source": [
        "ERFC = ExtraTreesClassifier(n_estimators=175, n_jobs=-1,random_state=0)\n",
        "ERFC.fit(training, df.IS_HCP)"
      ],
      "metadata": {
        "colab": {
          "base_uri": "https://localhost:8080/",
          "height": 74
        },
        "id": "9cNPDzTifEQf",
        "outputId": "3c2bb4d0-4ef3-4af0-b975-00428fcde6cf"
      },
      "execution_count": null,
      "outputs": [
        {
          "output_type": "execute_result",
          "data": {
            "text/plain": [
              "ExtraTreesClassifier(n_estimators=175, n_jobs=-1, random_state=0)"
            ],
            "text/html": [
              "<style>#sk-container-id-8 {color: black;background-color: white;}#sk-container-id-8 pre{padding: 0;}#sk-container-id-8 div.sk-toggleable {background-color: white;}#sk-container-id-8 label.sk-toggleable__label {cursor: pointer;display: block;width: 100%;margin-bottom: 0;padding: 0.3em;box-sizing: border-box;text-align: center;}#sk-container-id-8 label.sk-toggleable__label-arrow:before {content: \"▸\";float: left;margin-right: 0.25em;color: #696969;}#sk-container-id-8 label.sk-toggleable__label-arrow:hover:before {color: black;}#sk-container-id-8 div.sk-estimator:hover label.sk-toggleable__label-arrow:before {color: black;}#sk-container-id-8 div.sk-toggleable__content {max-height: 0;max-width: 0;overflow: hidden;text-align: left;background-color: #f0f8ff;}#sk-container-id-8 div.sk-toggleable__content pre {margin: 0.2em;color: black;border-radius: 0.25em;background-color: #f0f8ff;}#sk-container-id-8 input.sk-toggleable__control:checked~div.sk-toggleable__content {max-height: 200px;max-width: 100%;overflow: auto;}#sk-container-id-8 input.sk-toggleable__control:checked~label.sk-toggleable__label-arrow:before {content: \"▾\";}#sk-container-id-8 div.sk-estimator input.sk-toggleable__control:checked~label.sk-toggleable__label {background-color: #d4ebff;}#sk-container-id-8 div.sk-label input.sk-toggleable__control:checked~label.sk-toggleable__label {background-color: #d4ebff;}#sk-container-id-8 input.sk-hidden--visually {border: 0;clip: rect(1px 1px 1px 1px);clip: rect(1px, 1px, 1px, 1px);height: 1px;margin: -1px;overflow: hidden;padding: 0;position: absolute;width: 1px;}#sk-container-id-8 div.sk-estimator {font-family: monospace;background-color: #f0f8ff;border: 1px dotted black;border-radius: 0.25em;box-sizing: border-box;margin-bottom: 0.5em;}#sk-container-id-8 div.sk-estimator:hover {background-color: #d4ebff;}#sk-container-id-8 div.sk-parallel-item::after {content: \"\";width: 100%;border-bottom: 1px solid gray;flex-grow: 1;}#sk-container-id-8 div.sk-label:hover label.sk-toggleable__label {background-color: #d4ebff;}#sk-container-id-8 div.sk-serial::before {content: \"\";position: absolute;border-left: 1px solid gray;box-sizing: border-box;top: 0;bottom: 0;left: 50%;z-index: 0;}#sk-container-id-8 div.sk-serial {display: flex;flex-direction: column;align-items: center;background-color: white;padding-right: 0.2em;padding-left: 0.2em;position: relative;}#sk-container-id-8 div.sk-item {position: relative;z-index: 1;}#sk-container-id-8 div.sk-parallel {display: flex;align-items: stretch;justify-content: center;background-color: white;position: relative;}#sk-container-id-8 div.sk-item::before, #sk-container-id-8 div.sk-parallel-item::before {content: \"\";position: absolute;border-left: 1px solid gray;box-sizing: border-box;top: 0;bottom: 0;left: 50%;z-index: -1;}#sk-container-id-8 div.sk-parallel-item {display: flex;flex-direction: column;z-index: 1;position: relative;background-color: white;}#sk-container-id-8 div.sk-parallel-item:first-child::after {align-self: flex-end;width: 50%;}#sk-container-id-8 div.sk-parallel-item:last-child::after {align-self: flex-start;width: 50%;}#sk-container-id-8 div.sk-parallel-item:only-child::after {width: 0;}#sk-container-id-8 div.sk-dashed-wrapped {border: 1px dashed gray;margin: 0 0.4em 0.5em 0.4em;box-sizing: border-box;padding-bottom: 0.4em;background-color: white;}#sk-container-id-8 div.sk-label label {font-family: monospace;font-weight: bold;display: inline-block;line-height: 1.2em;}#sk-container-id-8 div.sk-label-container {text-align: center;}#sk-container-id-8 div.sk-container {/* jupyter's `normalize.less` sets `[hidden] { display: none; }` but bootstrap.min.css set `[hidden] { display: none !important; }` so we also need the `!important` here to be able to override the default hidden behavior on the sphinx rendered scikit-learn.org. See: https://github.com/scikit-learn/scikit-learn/issues/21755 */display: inline-block !important;position: relative;}#sk-container-id-8 div.sk-text-repr-fallback {display: none;}</style><div id=\"sk-container-id-8\" class=\"sk-top-container\"><div class=\"sk-text-repr-fallback\"><pre>ExtraTreesClassifier(n_estimators=175, n_jobs=-1, random_state=0)</pre><b>In a Jupyter environment, please rerun this cell to show the HTML representation or trust the notebook. <br />On GitHub, the HTML representation is unable to render, please try loading this page with nbviewer.org.</b></div><div class=\"sk-container\" hidden><div class=\"sk-item\"><div class=\"sk-estimator sk-toggleable\"><input class=\"sk-toggleable__control sk-hidden--visually\" id=\"sk-estimator-id-8\" type=\"checkbox\" checked><label for=\"sk-estimator-id-8\" class=\"sk-toggleable__label sk-toggleable__label-arrow\">ExtraTreesClassifier</label><div class=\"sk-toggleable__content\"><pre>ExtraTreesClassifier(n_estimators=175, n_jobs=-1, random_state=0)</pre></div></div></div></div></div>"
            ]
          },
          "metadata": {},
          "execution_count": 616
        }
      ]
    },
    {
      "cell_type": "code",
      "source": [
        "y_pred = ERFC.predict(final_test_data)"
      ],
      "metadata": {
        "id": "GMzzrgiAcDgi"
      },
      "execution_count": null,
      "outputs": []
    },
    {
      "cell_type": "code",
      "source": [
        "final_test_data['IS_HCP'] = y_pred"
      ],
      "metadata": {
        "id": "XM2Incy-cHH3"
      },
      "execution_count": null,
      "outputs": []
    },
    {
      "cell_type": "code",
      "source": [
        "final_test_data['IS_HCP'] = final_test_data['IS_HCP'].apply(lambda x:int(x))"
      ],
      "metadata": {
        "id": "xoir9MqgcR6_"
      },
      "execution_count": null,
      "outputs": []
    },
    {
      "cell_type": "code",
      "source": [
        "final_test_data['ID'] = id"
      ],
      "metadata": {
        "id": "Sf_L0n4FcvJy"
      },
      "execution_count": null,
      "outputs": []
    },
    {
      "cell_type": "code",
      "source": [
        "final_test_data[['ID','IS_HCP']].set_index('ID').to_csv('/content/NBR_Submission_45.csv')"
      ],
      "metadata": {
        "id": "YyDWAab4cU_j"
      },
      "execution_count": null,
      "outputs": []
    },
    {
      "cell_type": "code",
      "source": [
        "f1_score(df.IS_HCP,ERFC.predict(training),average='macro')"
      ],
      "metadata": {
        "colab": {
          "base_uri": "https://localhost:8080/"
        },
        "id": "Oh_vrPwycX8R",
        "outputId": "d8ccef34-af02-44dc-ca2d-d3fe3bffe195"
      },
      "execution_count": null,
      "outputs": [
        {
          "output_type": "execute_result",
          "data": {
            "text/plain": [
              "1.0"
            ]
          },
          "metadata": {},
          "execution_count": 622
        }
      ]
    },
    {
      "cell_type": "code",
      "source": [
        "final_test_data.IS_HCP.value_counts() # 99.8571"
      ],
      "metadata": {
        "colab": {
          "base_uri": "https://localhost:8080/"
        },
        "id": "yuwHgBCGtk_F",
        "outputId": "7dbdd0f5-c76d-4815-d4ea-a05932a5a496"
      },
      "execution_count": null,
      "outputs": [
        {
          "output_type": "execute_result",
          "data": {
            "text/plain": [
              "0    20032\n",
              "1     8461\n",
              "Name: IS_HCP, dtype: int64"
            ]
          },
          "metadata": {},
          "execution_count": 623
        }
      ]
    },
    {
      "cell_type": "code",
      "source": [
        "test_data.IS_HCP.value_counts()"
      ],
      "metadata": {
        "id": "uxbdqGTc0tMQ",
        "colab": {
          "base_uri": "https://localhost:8080/"
        },
        "outputId": "c3bd794f-2eb8-427f-8990-837c156756ca"
      },
      "execution_count": null,
      "outputs": [
        {
          "output_type": "execute_result",
          "data": {
            "text/plain": [
              "0    20040\n",
              "1     8453\n",
              "Name: IS_HCP, dtype: int64"
            ]
          },
          "metadata": {},
          "execution_count": 331
        }
      ]
    },
    {
      "cell_type": "code",
      "source": [
        "test_data.IS_HCP.value_counts()"
      ],
      "metadata": {
        "colab": {
          "base_uri": "https://localhost:8080/"
        },
        "id": "XW-eT5MYGCxX",
        "outputId": "d634c798-dfcb-4a71-c744-946fbe983f87"
      },
      "execution_count": null,
      "outputs": [
        {
          "output_type": "execute_result",
          "data": {
            "text/plain": [
              "0    20039\n",
              "1     8454\n",
              "Name: IS_HCP, dtype: int64"
            ]
          },
          "metadata": {},
          "execution_count": 170
        }
      ]
    },
    {
      "cell_type": "code",
      "source": [],
      "metadata": {
        "id": "lhte8l7IKCGg"
      },
      "execution_count": null,
      "outputs": []
    }
  ],
  "metadata": {
    "colab": {
      "provenance": [],
      "gpuType": "T4"
    },
    "kernelspec": {
      "display_name": "Python 3",
      "name": "python3"
    },
    "language_info": {
      "name": "python"
    }
  },
  "nbformat": 4,
  "nbformat_minor": 0
}